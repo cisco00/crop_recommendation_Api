{
 "cells": [
  {
   "cell_type": "code",
   "execution_count": 1,
   "metadata": {
    "ExecuteTime": {
     "end_time": "2023-05-23T13:06:38.672122147Z",
     "start_time": "2023-05-23T13:06:35.961724065Z"
    }
   },
   "outputs": [],
   "source": [
    "import pandas as pd\n",
    "import numpy as np\n",
    "import re\n",
    "# from imblearn.over_sampling import SMOTENC\n",
    "from sklearn.model_selection import train_test_split\n",
    "from sklearn.feature_selection import SelectKBest\n",
    "from sklearn.feature_extraction.text import CountVectorizer\n",
    "from sklearn.feature_selection import chi2\n",
    "from sklearn.metrics.pairwise import cosine_similarity"
   ]
  },
  {
   "cell_type": "code",
   "execution_count": 2,
   "metadata": {
    "ExecuteTime": {
     "end_time": "2023-05-23T13:06:38.876704720Z",
     "start_time": "2023-05-23T13:06:38.360895639Z"
    }
   },
   "outputs": [
    {
<<<<<<< HEAD
     "ename": "FileNotFoundError",
     "evalue": "[Errno 2] No such file or directory: 'climate_data_final.csv'",
     "output_type": "error",
     "traceback": [
      "\u001b[0;31m---------------------------------------------------------------------------\u001b[0m",
      "\u001b[0;31mFileNotFoundError\u001b[0m                         Traceback (most recent call last)",
      "Cell \u001b[0;32mIn[2], line 1\u001b[0m\n\u001b[0;32m----> 1\u001b[0m df \u001b[38;5;241m=\u001b[39m \u001b[43mpd\u001b[49m\u001b[38;5;241;43m.\u001b[39;49m\u001b[43mread_csv\u001b[49m\u001b[43m(\u001b[49m\u001b[38;5;124;43m'\u001b[39;49m\u001b[38;5;124;43mclimate_data_final.csv\u001b[39;49m\u001b[38;5;124;43m'\u001b[39;49m\u001b[43m)\u001b[49m\n\u001b[1;32m      2\u001b[0m df\u001b[38;5;241m.\u001b[39mhead()\n",
      "File \u001b[0;32m~/PycharmProjects/crop_recommendation_api/venv/lib/python3.10/site-packages/pandas/io/parsers/readers.py:912\u001b[0m, in \u001b[0;36mread_csv\u001b[0;34m(filepath_or_buffer, sep, delimiter, header, names, index_col, usecols, dtype, engine, converters, true_values, false_values, skipinitialspace, skiprows, skipfooter, nrows, na_values, keep_default_na, na_filter, verbose, skip_blank_lines, parse_dates, infer_datetime_format, keep_date_col, date_parser, date_format, dayfirst, cache_dates, iterator, chunksize, compression, thousands, decimal, lineterminator, quotechar, quoting, doublequote, escapechar, comment, encoding, encoding_errors, dialect, on_bad_lines, delim_whitespace, low_memory, memory_map, float_precision, storage_options, dtype_backend)\u001b[0m\n\u001b[1;32m    899\u001b[0m kwds_defaults \u001b[38;5;241m=\u001b[39m _refine_defaults_read(\n\u001b[1;32m    900\u001b[0m     dialect,\n\u001b[1;32m    901\u001b[0m     delimiter,\n\u001b[0;32m   (...)\u001b[0m\n\u001b[1;32m    908\u001b[0m     dtype_backend\u001b[38;5;241m=\u001b[39mdtype_backend,\n\u001b[1;32m    909\u001b[0m )\n\u001b[1;32m    910\u001b[0m kwds\u001b[38;5;241m.\u001b[39mupdate(kwds_defaults)\n\u001b[0;32m--> 912\u001b[0m \u001b[38;5;28;01mreturn\u001b[39;00m \u001b[43m_read\u001b[49m\u001b[43m(\u001b[49m\u001b[43mfilepath_or_buffer\u001b[49m\u001b[43m,\u001b[49m\u001b[43m \u001b[49m\u001b[43mkwds\u001b[49m\u001b[43m)\u001b[49m\n",
      "File \u001b[0;32m~/PycharmProjects/crop_recommendation_api/venv/lib/python3.10/site-packages/pandas/io/parsers/readers.py:577\u001b[0m, in \u001b[0;36m_read\u001b[0;34m(filepath_or_buffer, kwds)\u001b[0m\n\u001b[1;32m    574\u001b[0m _validate_names(kwds\u001b[38;5;241m.\u001b[39mget(\u001b[38;5;124m\"\u001b[39m\u001b[38;5;124mnames\u001b[39m\u001b[38;5;124m\"\u001b[39m, \u001b[38;5;28;01mNone\u001b[39;00m))\n\u001b[1;32m    576\u001b[0m \u001b[38;5;66;03m# Create the parser.\u001b[39;00m\n\u001b[0;32m--> 577\u001b[0m parser \u001b[38;5;241m=\u001b[39m \u001b[43mTextFileReader\u001b[49m\u001b[43m(\u001b[49m\u001b[43mfilepath_or_buffer\u001b[49m\u001b[43m,\u001b[49m\u001b[43m \u001b[49m\u001b[38;5;241;43m*\u001b[39;49m\u001b[38;5;241;43m*\u001b[39;49m\u001b[43mkwds\u001b[49m\u001b[43m)\u001b[49m\n\u001b[1;32m    579\u001b[0m \u001b[38;5;28;01mif\u001b[39;00m chunksize \u001b[38;5;129;01mor\u001b[39;00m iterator:\n\u001b[1;32m    580\u001b[0m     \u001b[38;5;28;01mreturn\u001b[39;00m parser\n",
      "File \u001b[0;32m~/PycharmProjects/crop_recommendation_api/venv/lib/python3.10/site-packages/pandas/io/parsers/readers.py:1407\u001b[0m, in \u001b[0;36mTextFileReader.__init__\u001b[0;34m(self, f, engine, **kwds)\u001b[0m\n\u001b[1;32m   1404\u001b[0m     \u001b[38;5;28mself\u001b[39m\u001b[38;5;241m.\u001b[39moptions[\u001b[38;5;124m\"\u001b[39m\u001b[38;5;124mhas_index_names\u001b[39m\u001b[38;5;124m\"\u001b[39m] \u001b[38;5;241m=\u001b[39m kwds[\u001b[38;5;124m\"\u001b[39m\u001b[38;5;124mhas_index_names\u001b[39m\u001b[38;5;124m\"\u001b[39m]\n\u001b[1;32m   1406\u001b[0m \u001b[38;5;28mself\u001b[39m\u001b[38;5;241m.\u001b[39mhandles: IOHandles \u001b[38;5;241m|\u001b[39m \u001b[38;5;28;01mNone\u001b[39;00m \u001b[38;5;241m=\u001b[39m \u001b[38;5;28;01mNone\u001b[39;00m\n\u001b[0;32m-> 1407\u001b[0m \u001b[38;5;28mself\u001b[39m\u001b[38;5;241m.\u001b[39m_engine \u001b[38;5;241m=\u001b[39m \u001b[38;5;28;43mself\u001b[39;49m\u001b[38;5;241;43m.\u001b[39;49m\u001b[43m_make_engine\u001b[49m\u001b[43m(\u001b[49m\u001b[43mf\u001b[49m\u001b[43m,\u001b[49m\u001b[43m \u001b[49m\u001b[38;5;28;43mself\u001b[39;49m\u001b[38;5;241;43m.\u001b[39;49m\u001b[43mengine\u001b[49m\u001b[43m)\u001b[49m\n",
      "File \u001b[0;32m~/PycharmProjects/crop_recommendation_api/venv/lib/python3.10/site-packages/pandas/io/parsers/readers.py:1661\u001b[0m, in \u001b[0;36mTextFileReader._make_engine\u001b[0;34m(self, f, engine)\u001b[0m\n\u001b[1;32m   1659\u001b[0m     \u001b[38;5;28;01mif\u001b[39;00m \u001b[38;5;124m\"\u001b[39m\u001b[38;5;124mb\u001b[39m\u001b[38;5;124m\"\u001b[39m \u001b[38;5;129;01mnot\u001b[39;00m \u001b[38;5;129;01min\u001b[39;00m mode:\n\u001b[1;32m   1660\u001b[0m         mode \u001b[38;5;241m+\u001b[39m\u001b[38;5;241m=\u001b[39m \u001b[38;5;124m\"\u001b[39m\u001b[38;5;124mb\u001b[39m\u001b[38;5;124m\"\u001b[39m\n\u001b[0;32m-> 1661\u001b[0m \u001b[38;5;28mself\u001b[39m\u001b[38;5;241m.\u001b[39mhandles \u001b[38;5;241m=\u001b[39m \u001b[43mget_handle\u001b[49m\u001b[43m(\u001b[49m\n\u001b[1;32m   1662\u001b[0m \u001b[43m    \u001b[49m\u001b[43mf\u001b[49m\u001b[43m,\u001b[49m\n\u001b[1;32m   1663\u001b[0m \u001b[43m    \u001b[49m\u001b[43mmode\u001b[49m\u001b[43m,\u001b[49m\n\u001b[1;32m   1664\u001b[0m \u001b[43m    \u001b[49m\u001b[43mencoding\u001b[49m\u001b[38;5;241;43m=\u001b[39;49m\u001b[38;5;28;43mself\u001b[39;49m\u001b[38;5;241;43m.\u001b[39;49m\u001b[43moptions\u001b[49m\u001b[38;5;241;43m.\u001b[39;49m\u001b[43mget\u001b[49m\u001b[43m(\u001b[49m\u001b[38;5;124;43m\"\u001b[39;49m\u001b[38;5;124;43mencoding\u001b[39;49m\u001b[38;5;124;43m\"\u001b[39;49m\u001b[43m,\u001b[49m\u001b[43m \u001b[49m\u001b[38;5;28;43;01mNone\u001b[39;49;00m\u001b[43m)\u001b[49m\u001b[43m,\u001b[49m\n\u001b[1;32m   1665\u001b[0m \u001b[43m    \u001b[49m\u001b[43mcompression\u001b[49m\u001b[38;5;241;43m=\u001b[39;49m\u001b[38;5;28;43mself\u001b[39;49m\u001b[38;5;241;43m.\u001b[39;49m\u001b[43moptions\u001b[49m\u001b[38;5;241;43m.\u001b[39;49m\u001b[43mget\u001b[49m\u001b[43m(\u001b[49m\u001b[38;5;124;43m\"\u001b[39;49m\u001b[38;5;124;43mcompression\u001b[39;49m\u001b[38;5;124;43m\"\u001b[39;49m\u001b[43m,\u001b[49m\u001b[43m \u001b[49m\u001b[38;5;28;43;01mNone\u001b[39;49;00m\u001b[43m)\u001b[49m\u001b[43m,\u001b[49m\n\u001b[1;32m   1666\u001b[0m \u001b[43m    \u001b[49m\u001b[43mmemory_map\u001b[49m\u001b[38;5;241;43m=\u001b[39;49m\u001b[38;5;28;43mself\u001b[39;49m\u001b[38;5;241;43m.\u001b[39;49m\u001b[43moptions\u001b[49m\u001b[38;5;241;43m.\u001b[39;49m\u001b[43mget\u001b[49m\u001b[43m(\u001b[49m\u001b[38;5;124;43m\"\u001b[39;49m\u001b[38;5;124;43mmemory_map\u001b[39;49m\u001b[38;5;124;43m\"\u001b[39;49m\u001b[43m,\u001b[49m\u001b[43m \u001b[49m\u001b[38;5;28;43;01mFalse\u001b[39;49;00m\u001b[43m)\u001b[49m\u001b[43m,\u001b[49m\n\u001b[1;32m   1667\u001b[0m \u001b[43m    \u001b[49m\u001b[43mis_text\u001b[49m\u001b[38;5;241;43m=\u001b[39;49m\u001b[43mis_text\u001b[49m\u001b[43m,\u001b[49m\n\u001b[1;32m   1668\u001b[0m \u001b[43m    \u001b[49m\u001b[43merrors\u001b[49m\u001b[38;5;241;43m=\u001b[39;49m\u001b[38;5;28;43mself\u001b[39;49m\u001b[38;5;241;43m.\u001b[39;49m\u001b[43moptions\u001b[49m\u001b[38;5;241;43m.\u001b[39;49m\u001b[43mget\u001b[49m\u001b[43m(\u001b[49m\u001b[38;5;124;43m\"\u001b[39;49m\u001b[38;5;124;43mencoding_errors\u001b[39;49m\u001b[38;5;124;43m\"\u001b[39;49m\u001b[43m,\u001b[49m\u001b[43m \u001b[49m\u001b[38;5;124;43m\"\u001b[39;49m\u001b[38;5;124;43mstrict\u001b[39;49m\u001b[38;5;124;43m\"\u001b[39;49m\u001b[43m)\u001b[49m\u001b[43m,\u001b[49m\n\u001b[1;32m   1669\u001b[0m \u001b[43m    \u001b[49m\u001b[43mstorage_options\u001b[49m\u001b[38;5;241;43m=\u001b[39;49m\u001b[38;5;28;43mself\u001b[39;49m\u001b[38;5;241;43m.\u001b[39;49m\u001b[43moptions\u001b[49m\u001b[38;5;241;43m.\u001b[39;49m\u001b[43mget\u001b[49m\u001b[43m(\u001b[49m\u001b[38;5;124;43m\"\u001b[39;49m\u001b[38;5;124;43mstorage_options\u001b[39;49m\u001b[38;5;124;43m\"\u001b[39;49m\u001b[43m,\u001b[49m\u001b[43m \u001b[49m\u001b[38;5;28;43;01mNone\u001b[39;49;00m\u001b[43m)\u001b[49m\u001b[43m,\u001b[49m\n\u001b[1;32m   1670\u001b[0m \u001b[43m\u001b[49m\u001b[43m)\u001b[49m\n\u001b[1;32m   1671\u001b[0m \u001b[38;5;28;01massert\u001b[39;00m \u001b[38;5;28mself\u001b[39m\u001b[38;5;241m.\u001b[39mhandles \u001b[38;5;129;01mis\u001b[39;00m \u001b[38;5;129;01mnot\u001b[39;00m \u001b[38;5;28;01mNone\u001b[39;00m\n\u001b[1;32m   1672\u001b[0m f \u001b[38;5;241m=\u001b[39m \u001b[38;5;28mself\u001b[39m\u001b[38;5;241m.\u001b[39mhandles\u001b[38;5;241m.\u001b[39mhandle\n",
      "File \u001b[0;32m~/PycharmProjects/crop_recommendation_api/venv/lib/python3.10/site-packages/pandas/io/common.py:859\u001b[0m, in \u001b[0;36mget_handle\u001b[0;34m(path_or_buf, mode, encoding, compression, memory_map, is_text, errors, storage_options)\u001b[0m\n\u001b[1;32m    854\u001b[0m \u001b[38;5;28;01melif\u001b[39;00m \u001b[38;5;28misinstance\u001b[39m(handle, \u001b[38;5;28mstr\u001b[39m):\n\u001b[1;32m    855\u001b[0m     \u001b[38;5;66;03m# Check whether the filename is to be opened in binary mode.\u001b[39;00m\n\u001b[1;32m    856\u001b[0m     \u001b[38;5;66;03m# Binary mode does not support 'encoding' and 'newline'.\u001b[39;00m\n\u001b[1;32m    857\u001b[0m     \u001b[38;5;28;01mif\u001b[39;00m ioargs\u001b[38;5;241m.\u001b[39mencoding \u001b[38;5;129;01mand\u001b[39;00m \u001b[38;5;124m\"\u001b[39m\u001b[38;5;124mb\u001b[39m\u001b[38;5;124m\"\u001b[39m \u001b[38;5;129;01mnot\u001b[39;00m \u001b[38;5;129;01min\u001b[39;00m ioargs\u001b[38;5;241m.\u001b[39mmode:\n\u001b[1;32m    858\u001b[0m         \u001b[38;5;66;03m# Encoding\u001b[39;00m\n\u001b[0;32m--> 859\u001b[0m         handle \u001b[38;5;241m=\u001b[39m \u001b[38;5;28;43mopen\u001b[39;49m\u001b[43m(\u001b[49m\n\u001b[1;32m    860\u001b[0m \u001b[43m            \u001b[49m\u001b[43mhandle\u001b[49m\u001b[43m,\u001b[49m\n\u001b[1;32m    861\u001b[0m \u001b[43m            \u001b[49m\u001b[43mioargs\u001b[49m\u001b[38;5;241;43m.\u001b[39;49m\u001b[43mmode\u001b[49m\u001b[43m,\u001b[49m\n\u001b[1;32m    862\u001b[0m \u001b[43m            \u001b[49m\u001b[43mencoding\u001b[49m\u001b[38;5;241;43m=\u001b[39;49m\u001b[43mioargs\u001b[49m\u001b[38;5;241;43m.\u001b[39;49m\u001b[43mencoding\u001b[49m\u001b[43m,\u001b[49m\n\u001b[1;32m    863\u001b[0m \u001b[43m            \u001b[49m\u001b[43merrors\u001b[49m\u001b[38;5;241;43m=\u001b[39;49m\u001b[43merrors\u001b[49m\u001b[43m,\u001b[49m\n\u001b[1;32m    864\u001b[0m \u001b[43m            \u001b[49m\u001b[43mnewline\u001b[49m\u001b[38;5;241;43m=\u001b[39;49m\u001b[38;5;124;43m\"\u001b[39;49m\u001b[38;5;124;43m\"\u001b[39;49m\u001b[43m,\u001b[49m\n\u001b[1;32m    865\u001b[0m \u001b[43m        \u001b[49m\u001b[43m)\u001b[49m\n\u001b[1;32m    866\u001b[0m     \u001b[38;5;28;01melse\u001b[39;00m:\n\u001b[1;32m    867\u001b[0m         \u001b[38;5;66;03m# Binary mode\u001b[39;00m\n\u001b[1;32m    868\u001b[0m         handle \u001b[38;5;241m=\u001b[39m \u001b[38;5;28mopen\u001b[39m(handle, ioargs\u001b[38;5;241m.\u001b[39mmode)\n",
      "\u001b[0;31mFileNotFoundError\u001b[0m: [Errno 2] No such file or directory: 'climate_data_final.csv'"
     ]
=======
     "data": {
      "text/plain": "  state        city rainfall  temperature   \n0  Abia         Aba     2747         25.6  \\\n1  Abia    Ahia Aba     2219         25.7   \n2  Abia       Bende     2112         26.1   \n3  Abia  Ihie Ndume     2122         25.8   \n4  Abia      Mbukwa     2112         26.1   \n\n                                            humidity  \n0  The month of highest relative humidity is June...  \n1  The month with the most relative humidity is S...  \n2  The month that sees the most relative humidity...  \n3  The month with the highest relative humidity i...  \n4  The month with the highest relative humidity i...  ",
      "text/html": "<div>\n<style scoped>\n    .dataframe tbody tr th:only-of-type {\n        vertical-align: middle;\n    }\n\n    .dataframe tbody tr th {\n        vertical-align: top;\n    }\n\n    .dataframe thead th {\n        text-align: right;\n    }\n</style>\n<table border=\"1\" class=\"dataframe\">\n  <thead>\n    <tr style=\"text-align: right;\">\n      <th></th>\n      <th>state</th>\n      <th>city</th>\n      <th>rainfall</th>\n      <th>temperature</th>\n      <th>humidity</th>\n    </tr>\n  </thead>\n  <tbody>\n    <tr>\n      <th>0</th>\n      <td>Abia</td>\n      <td>Aba</td>\n      <td>2747</td>\n      <td>25.6</td>\n      <td>The month of highest relative humidity is June...</td>\n    </tr>\n    <tr>\n      <th>1</th>\n      <td>Abia</td>\n      <td>Ahia Aba</td>\n      <td>2219</td>\n      <td>25.7</td>\n      <td>The month with the most relative humidity is S...</td>\n    </tr>\n    <tr>\n      <th>2</th>\n      <td>Abia</td>\n      <td>Bende</td>\n      <td>2112</td>\n      <td>26.1</td>\n      <td>The month that sees the most relative humidity...</td>\n    </tr>\n    <tr>\n      <th>3</th>\n      <td>Abia</td>\n      <td>Ihie Ndume</td>\n      <td>2122</td>\n      <td>25.8</td>\n      <td>The month with the highest relative humidity i...</td>\n    </tr>\n    <tr>\n      <th>4</th>\n      <td>Abia</td>\n      <td>Mbukwa</td>\n      <td>2112</td>\n      <td>26.1</td>\n      <td>The month with the highest relative humidity i...</td>\n    </tr>\n  </tbody>\n</table>\n</div>"
     },
     "execution_count": 2,
     "metadata": {},
     "output_type": "execute_result"
>>>>>>> 678ea7d706912f47b32babee6e6f10b9d6bb7bfb
    }
   ],
   "source": [
    "df = pd.read_csv('climate_data_final.csv')\n",
    "df.head()"
   ]
  },
  {
   "cell_type": "code",
   "execution_count": 3,
   "metadata": {
    "ExecuteTime": {
     "end_time": "2023-05-23T13:06:38.946745203Z",
     "start_time": "2023-05-23T13:06:38.361754580Z"
    }
   },
   "outputs": [
    {
     "data": {
      "text/plain": "(294, 5)"
     },
     "execution_count": 3,
     "metadata": {},
     "output_type": "execute_result"
    }
   ],
   "source": [
    "df.shape"
   ]
  },
  {
   "cell_type": "code",
   "execution_count": 4,
   "metadata": {
    "ExecuteTime": {
     "end_time": "2023-05-23T13:06:38.968014523Z",
     "start_time": "2023-05-23T13:06:38.368230020Z"
    }
   },
   "outputs": [
    {
     "name": "stdout",
     "output_type": "stream",
     "text": [
      "['Abia' 'Adamawa' 'Akwa Ibom' 'Anambra' 'Bauchi' 'Bayelsa' 'Benue' 'Borno'\n",
      " 'Cross River' 'Delta' 'Ebonyi' 'Edo' 'Ekiti' 'Enugu'\n",
      " 'Federal Capital Territory' 'Gombe' 'Imo' 'Jigawa' 'Kaduna' 'Kano'\n",
      " 'Katsina' 'Kebbi' 'Kogi' 'Kwara' 'Lagos' 'Nasarawa' 'Niger' 'Ogun' 'Ondo'\n",
      " 'Osun' 'Oyo' 'Plateau' 'Rivers' 'Sokoto' 'Taraba' 'Yobe' 'Zamfara']\n",
      "37\n"
     ]
    }
   ],
   "source": [
    "df.state = df.state.str.strip()\n",
    "print(df.state.unique())\n",
    "print(len(df.state.unique()))"
   ]
  },
  {
   "cell_type": "code",
   "execution_count": 5,
   "metadata": {
    "ExecuteTime": {
     "end_time": "2023-05-23T13:06:39.008862159Z",
     "start_time": "2023-05-23T13:06:38.394810335Z"
    }
   },
   "outputs": [
    {
     "data": {
      "text/plain": "['The month of highest relative humidity is June (90.79 %). The month with the lowest relative humidity is January (67.66 %).\\nThe month which sees the most rainfall is October (11.20 days). The driest month of the year is January (28.67 days).',\n 'The month with the most relative humidity is September (90.04 %). The month with the least relative humidity is January (61.71 %).\\nThe wettest month is October (28.07 days), while the driest is December (5.67).',\n 'The month that sees the most relative humidity is October (57.48 %). The month with the lowest amount of relative humidity is January (57.48 %).\\nThe wettest month is October (28.07 days), whilst the driest is January (4.67).',\n 'The month with the highest relative humidity is October (89.37 %). The month with the lowest relative humidity is January (58.35 %).\\nThe month with the highest number of rainy days is October (28.07 days). The month with the lowest number of rainy days is January (4.80 days).',\n 'The month with the highest relative humidity is October (89.42 %). The month with the lowest relative humidity is January (59.93 %).\\nThe month with the highest number of rainy days is October (28.07 days). The month with the lowest number of rainy days is January (4.67 days).']"
     },
     "execution_count": 5,
     "metadata": {},
     "output_type": "execute_result"
    }
   ],
   "source": [
    "df.humidity[:5].tolist()"
   ]
  },
  {
   "cell_type": "code",
   "execution_count": 6,
   "metadata": {
    "ExecuteTime": {
     "end_time": "2023-05-23T13:06:39.217540214Z",
     "start_time": "2023-05-23T13:06:38.447773214Z"
    }
   },
   "outputs": [],
   "source": [
    "doct = df.drop('city', axis=1)"
   ]
  },
  {
   "cell_type": "code",
   "execution_count": 7,
   "metadata": {
    "ExecuteTime": {
     "end_time": "2023-05-23T13:06:39.284974938Z",
     "start_time": "2023-05-23T13:06:38.448133485Z"
    }
   },
   "outputs": [
    {
     "data": {
      "text/plain": "  state rainfall  temperature   \n0  Abia     2747         25.6  \\\n1  Abia     2219         25.7   \n2  Abia     2112         26.1   \n3  Abia     2122         25.8   \n4  Abia     2112         26.1   \n\n                                                   A  \n0         June (90.79 ).         January (67.66 )...  \n1          September (90.04 ).         January (6...  \n2           October (57.48 ).           January (...  \n3          October (89.37 ).         January (58....  \n4          October (89.42 ).         January (59....  ",
      "text/html": "<div>\n<style scoped>\n    .dataframe tbody tr th:only-of-type {\n        vertical-align: middle;\n    }\n\n    .dataframe tbody tr th {\n        vertical-align: top;\n    }\n\n    .dataframe thead th {\n        text-align: right;\n    }\n</style>\n<table border=\"1\" class=\"dataframe\">\n  <thead>\n    <tr style=\"text-align: right;\">\n      <th></th>\n      <th>state</th>\n      <th>rainfall</th>\n      <th>temperature</th>\n      <th>A</th>\n    </tr>\n  </thead>\n  <tbody>\n    <tr>\n      <th>0</th>\n      <td>Abia</td>\n      <td>2747</td>\n      <td>25.6</td>\n      <td>June (90.79 ).         January (67.66 )...</td>\n    </tr>\n    <tr>\n      <th>1</th>\n      <td>Abia</td>\n      <td>2219</td>\n      <td>25.7</td>\n      <td>September (90.04 ).         January (6...</td>\n    </tr>\n    <tr>\n      <th>2</th>\n      <td>Abia</td>\n      <td>2112</td>\n      <td>26.1</td>\n      <td>October (57.48 ).           January (...</td>\n    </tr>\n    <tr>\n      <th>3</th>\n      <td>Abia</td>\n      <td>2122</td>\n      <td>25.8</td>\n      <td>October (89.37 ).         January (58....</td>\n    </tr>\n    <tr>\n      <th>4</th>\n      <td>Abia</td>\n      <td>2112</td>\n      <td>26.1</td>\n      <td>October (89.42 ).         January (59....</td>\n    </tr>\n  </tbody>\n</table>\n</div>"
     },
     "execution_count": 7,
     "metadata": {},
     "output_type": "execute_result"
    }
   ],
   "source": [
    "doct['A'] = doct['humidity'].str.replace('The|number|rainy|month|with|the|highest|relative|humidity|is|\\\n",
    "                                        |lowest|which|sess|most|rainfall|days|of|least|%|while|year|that|\\\n",
    "                                        |sees|amount|percent|\\n|wettest|driest|whilst|fewest|(|)', '', \n",
    "                                         regex=True)\n",
    "doct = doct.drop('humidity', axis=1)\n",
    "doct.head()"
   ]
  },
  {
   "cell_type": "code",
   "execution_count": 8,
   "metadata": {
    "ExecuteTime": {
     "end_time": "2023-05-23T13:06:39.309249711Z",
     "start_time": "2023-05-23T13:06:38.492299973Z"
    }
   },
   "outputs": [
    {
     "data": {
      "text/plain": "['       August (76.15 ).         March (9.80 ).        August (0.00 ).        January (18.77 ).',\n '        August (73.97 ).         March (9.24 ).    August (16.03 ).     January (0.00 ).',\n '        August (74.84 ).         March (9.34 ).        August (16.30 ).         January (0.00 ).',\n '       August (82.39 ).         March (11.53 ).        August (0.00 ).        January (21.67 ).',\n '         August (13.16 ).           March (13.16 ).    August (23.40 ),     December (0.00).',\n '        August (81.09 ).         March (11.86 ).    August (21.97 ),     December (0.00).',\n '       August (81.73 ).         March (12.23 ).        August (0.00 ).        December (21.97 ).',\n '        August (81.16 ).         March (11.40 ).    August (21.97 ).     December (0.00 ).',\n '        August (81.02 ).         March (11.25 ).    August (21.97 ).     December (0.00 ).',\n '        August (81.98 ).         March (12.05 ).        August (21.70 ).         December (0.00 ).',\n '        August (81.02 ).         March (11.25 ).    August (20.17 ),     December (0.00).',\n '        August (83.41 ).         March (13.78 ).        August (23.83 ).         December (0.00 ).',\n '        August (81.16 ).         March (11.40 ).    August (21.97 ).     December (0.00 ).',\n '       August (81.02 ).         March (11.25 ).        August (0.00 ).        December (20.17 ).']"
     },
     "execution_count": 8,
     "metadata": {},
     "output_type": "execute_result"
    }
   ],
   "source": [
    "doct.A[280:300].tolist()"
   ]
  },
  {
   "cell_type": "code",
   "execution_count": 9,
   "metadata": {
    "ExecuteTime": {
     "end_time": "2023-05-23T13:06:39.412102268Z",
     "start_time": "2023-05-23T13:06:38.492869097Z"
    }
   },
   "outputs": [
    {
     "data": {
      "text/plain": "    Humidity_1 Humidity_2 Humidity_3 Humidity_4 Humidity_5 Humidity_6   \n0         June     (90.79         ).    January     (67.66         ).  \\\n1    September     (90.04         ).    January     (61.71         ).   \n2      October     (57.48         ).    January     (57.48         ).   \n3      October     (89.37         ).    January     (58.35         ).   \n4      October     (89.42         ).    January     (59.93         ).   \n..         ...        ...        ...        ...        ...        ...   \n289     August     (81.98         ).      March     (12.05         ).   \n290     August     (81.02         ).      March     (11.25         ).   \n291     August     (83.41         ).      March     (13.78         ).   \n292     August     (81.16         ).      March     (11.40         ).   \n293     August     (81.02         ).      March     (11.25         ).   \n\n    Humidity_7 Humidity_8 Humidity_9 Humidity_10 Humidity_11 Humidity_12  \n0      October     (11.20         ).     January      (28.67          ).  \n1      October     (28.07         ),    December     (5.67).        None  \n2      October     (28.07         ),     January     (4.67).        None  \n3      October     (28.07         ).     January       (4.80          ).  \n4      October     (28.07         ).     January       (4.67          ).  \n..         ...        ...        ...         ...         ...         ...  \n289     August     (21.70         ).    December       (0.00          ).  \n290     August     (20.17         ),    December     (0.00).        None  \n291     August     (23.83         ).    December       (0.00          ).  \n292     August     (21.97         ).    December       (0.00          ).  \n293     August      (0.00         ).    December      (20.17          ).  \n\n[294 rows x 12 columns]",
      "text/html": "<div>\n<style scoped>\n    .dataframe tbody tr th:only-of-type {\n        vertical-align: middle;\n    }\n\n    .dataframe tbody tr th {\n        vertical-align: top;\n    }\n\n    .dataframe thead th {\n        text-align: right;\n    }\n</style>\n<table border=\"1\" class=\"dataframe\">\n  <thead>\n    <tr style=\"text-align: right;\">\n      <th></th>\n      <th>Humidity_1</th>\n      <th>Humidity_2</th>\n      <th>Humidity_3</th>\n      <th>Humidity_4</th>\n      <th>Humidity_5</th>\n      <th>Humidity_6</th>\n      <th>Humidity_7</th>\n      <th>Humidity_8</th>\n      <th>Humidity_9</th>\n      <th>Humidity_10</th>\n      <th>Humidity_11</th>\n      <th>Humidity_12</th>\n    </tr>\n  </thead>\n  <tbody>\n    <tr>\n      <th>0</th>\n      <td>June</td>\n      <td>(90.79</td>\n      <td>).</td>\n      <td>January</td>\n      <td>(67.66</td>\n      <td>).</td>\n      <td>October</td>\n      <td>(11.20</td>\n      <td>).</td>\n      <td>January</td>\n      <td>(28.67</td>\n      <td>).</td>\n    </tr>\n    <tr>\n      <th>1</th>\n      <td>September</td>\n      <td>(90.04</td>\n      <td>).</td>\n      <td>January</td>\n      <td>(61.71</td>\n      <td>).</td>\n      <td>October</td>\n      <td>(28.07</td>\n      <td>),</td>\n      <td>December</td>\n      <td>(5.67).</td>\n      <td>None</td>\n    </tr>\n    <tr>\n      <th>2</th>\n      <td>October</td>\n      <td>(57.48</td>\n      <td>).</td>\n      <td>January</td>\n      <td>(57.48</td>\n      <td>).</td>\n      <td>October</td>\n      <td>(28.07</td>\n      <td>),</td>\n      <td>January</td>\n      <td>(4.67).</td>\n      <td>None</td>\n    </tr>\n    <tr>\n      <th>3</th>\n      <td>October</td>\n      <td>(89.37</td>\n      <td>).</td>\n      <td>January</td>\n      <td>(58.35</td>\n      <td>).</td>\n      <td>October</td>\n      <td>(28.07</td>\n      <td>).</td>\n      <td>January</td>\n      <td>(4.80</td>\n      <td>).</td>\n    </tr>\n    <tr>\n      <th>4</th>\n      <td>October</td>\n      <td>(89.42</td>\n      <td>).</td>\n      <td>January</td>\n      <td>(59.93</td>\n      <td>).</td>\n      <td>October</td>\n      <td>(28.07</td>\n      <td>).</td>\n      <td>January</td>\n      <td>(4.67</td>\n      <td>).</td>\n    </tr>\n    <tr>\n      <th>...</th>\n      <td>...</td>\n      <td>...</td>\n      <td>...</td>\n      <td>...</td>\n      <td>...</td>\n      <td>...</td>\n      <td>...</td>\n      <td>...</td>\n      <td>...</td>\n      <td>...</td>\n      <td>...</td>\n      <td>...</td>\n    </tr>\n    <tr>\n      <th>289</th>\n      <td>August</td>\n      <td>(81.98</td>\n      <td>).</td>\n      <td>March</td>\n      <td>(12.05</td>\n      <td>).</td>\n      <td>August</td>\n      <td>(21.70</td>\n      <td>).</td>\n      <td>December</td>\n      <td>(0.00</td>\n      <td>).</td>\n    </tr>\n    <tr>\n      <th>290</th>\n      <td>August</td>\n      <td>(81.02</td>\n      <td>).</td>\n      <td>March</td>\n      <td>(11.25</td>\n      <td>).</td>\n      <td>August</td>\n      <td>(20.17</td>\n      <td>),</td>\n      <td>December</td>\n      <td>(0.00).</td>\n      <td>None</td>\n    </tr>\n    <tr>\n      <th>291</th>\n      <td>August</td>\n      <td>(83.41</td>\n      <td>).</td>\n      <td>March</td>\n      <td>(13.78</td>\n      <td>).</td>\n      <td>August</td>\n      <td>(23.83</td>\n      <td>).</td>\n      <td>December</td>\n      <td>(0.00</td>\n      <td>).</td>\n    </tr>\n    <tr>\n      <th>292</th>\n      <td>August</td>\n      <td>(81.16</td>\n      <td>).</td>\n      <td>March</td>\n      <td>(11.40</td>\n      <td>).</td>\n      <td>August</td>\n      <td>(21.97</td>\n      <td>).</td>\n      <td>December</td>\n      <td>(0.00</td>\n      <td>).</td>\n    </tr>\n    <tr>\n      <th>293</th>\n      <td>August</td>\n      <td>(81.02</td>\n      <td>).</td>\n      <td>March</td>\n      <td>(11.25</td>\n      <td>).</td>\n      <td>August</td>\n      <td>(0.00</td>\n      <td>).</td>\n      <td>December</td>\n      <td>(20.17</td>\n      <td>).</td>\n    </tr>\n  </tbody>\n</table>\n<p>294 rows × 12 columns</p>\n</div>"
     },
     "execution_count": 9,
     "metadata": {},
     "output_type": "execute_result"
    }
   ],
   "source": [
    "doct = doct[\"A\"].str.split(n=11, expand=True)\n",
    "doct.columns = ['Humidity_{}'.format(x+1) for x in doct.columns]\n",
    "doct"
   ]
  },
  {
   "cell_type": "code",
   "execution_count": 10,
   "metadata": {
    "ExecuteTime": {
     "end_time": "2023-05-23T13:06:39.519198704Z",
     "start_time": "2023-05-23T13:06:38.540671354Z"
    }
   },
   "outputs": [
    {
     "name": "stderr",
     "output_type": "stream",
     "text": [
      "/tmp/ipykernel_8409/2844759692.py:2: SettingWithCopyWarning: \n",
      "A value is trying to be set on a copy of a slice from a DataFrame.\n",
      "Try using .loc[row_indexer,col_indexer] = value instead\n",
      "\n",
      "See the caveats in the documentation: https://pandas.pydata.org/pandas-docs/stable/user_guide/indexing.html#returning-a-view-versus-a-copy\n",
      "  clean_weath['Humidity_2'] = clean_weath['Humidity_2'].str.extract(r'(\\d+.\\d+)').astype('float')\n",
      "/tmp/ipykernel_8409/2844759692.py:3: SettingWithCopyWarning: \n",
      "A value is trying to be set on a copy of a slice from a DataFrame.\n",
      "Try using .loc[row_indexer,col_indexer] = value instead\n",
      "\n",
      "See the caveats in the documentation: https://pandas.pydata.org/pandas-docs/stable/user_guide/indexing.html#returning-a-view-versus-a-copy\n",
      "  clean_weath['Humidity_5'] = clean_weath['Humidity_5'].str.extract(r'(\\d+.\\d+)').astype('float')\n",
      "/tmp/ipykernel_8409/2844759692.py:4: SettingWithCopyWarning: \n",
      "A value is trying to be set on a copy of a slice from a DataFrame.\n",
      "Try using .loc[row_indexer,col_indexer] = value instead\n",
      "\n",
      "See the caveats in the documentation: https://pandas.pydata.org/pandas-docs/stable/user_guide/indexing.html#returning-a-view-versus-a-copy\n",
      "  clean_weath['Humidity_8'] = clean_weath['Humidity_8'].str.extract(r'(\\d+.\\d+)').astype('float')\n",
      "/tmp/ipykernel_8409/2844759692.py:5: SettingWithCopyWarning: \n",
      "A value is trying to be set on a copy of a slice from a DataFrame.\n",
      "Try using .loc[row_indexer,col_indexer] = value instead\n",
      "\n",
      "See the caveats in the documentation: https://pandas.pydata.org/pandas-docs/stable/user_guide/indexing.html#returning-a-view-versus-a-copy\n",
      "  clean_weath['Humidity_11'] = clean_weath['Humidity_11'].str.extract(r'(\\d+.\\d+)').astype('float')\n"
     ]
    },
    {
     "data": {
      "text/plain": "     Humidity_2  Humidity_5  Humidity_8  Humidity_11\n0         90.79       67.66       11.20        28.67\n1         90.04       61.71       28.07         5.67\n2         57.48       57.48       28.07         4.67\n3         89.37       58.35       28.07         4.80\n4         89.42       59.93       28.07         4.67\n..          ...         ...         ...          ...\n289       81.98       12.05       21.70         0.00\n290       81.02       11.25       20.17         0.00\n291       83.41       13.78       23.83         0.00\n292       81.16       11.40       21.97         0.00\n293       81.02       11.25        0.00        20.17\n\n[294 rows x 4 columns]",
      "text/html": "<div>\n<style scoped>\n    .dataframe tbody tr th:only-of-type {\n        vertical-align: middle;\n    }\n\n    .dataframe tbody tr th {\n        vertical-align: top;\n    }\n\n    .dataframe thead th {\n        text-align: right;\n    }\n</style>\n<table border=\"1\" class=\"dataframe\">\n  <thead>\n    <tr style=\"text-align: right;\">\n      <th></th>\n      <th>Humidity_2</th>\n      <th>Humidity_5</th>\n      <th>Humidity_8</th>\n      <th>Humidity_11</th>\n    </tr>\n  </thead>\n  <tbody>\n    <tr>\n      <th>0</th>\n      <td>90.79</td>\n      <td>67.66</td>\n      <td>11.20</td>\n      <td>28.67</td>\n    </tr>\n    <tr>\n      <th>1</th>\n      <td>90.04</td>\n      <td>61.71</td>\n      <td>28.07</td>\n      <td>5.67</td>\n    </tr>\n    <tr>\n      <th>2</th>\n      <td>57.48</td>\n      <td>57.48</td>\n      <td>28.07</td>\n      <td>4.67</td>\n    </tr>\n    <tr>\n      <th>3</th>\n      <td>89.37</td>\n      <td>58.35</td>\n      <td>28.07</td>\n      <td>4.80</td>\n    </tr>\n    <tr>\n      <th>4</th>\n      <td>89.42</td>\n      <td>59.93</td>\n      <td>28.07</td>\n      <td>4.67</td>\n    </tr>\n    <tr>\n      <th>...</th>\n      <td>...</td>\n      <td>...</td>\n      <td>...</td>\n      <td>...</td>\n    </tr>\n    <tr>\n      <th>289</th>\n      <td>81.98</td>\n      <td>12.05</td>\n      <td>21.70</td>\n      <td>0.00</td>\n    </tr>\n    <tr>\n      <th>290</th>\n      <td>81.02</td>\n      <td>11.25</td>\n      <td>20.17</td>\n      <td>0.00</td>\n    </tr>\n    <tr>\n      <th>291</th>\n      <td>83.41</td>\n      <td>13.78</td>\n      <td>23.83</td>\n      <td>0.00</td>\n    </tr>\n    <tr>\n      <th>292</th>\n      <td>81.16</td>\n      <td>11.40</td>\n      <td>21.97</td>\n      <td>0.00</td>\n    </tr>\n    <tr>\n      <th>293</th>\n      <td>81.02</td>\n      <td>11.25</td>\n      <td>0.00</td>\n      <td>20.17</td>\n    </tr>\n  </tbody>\n</table>\n<p>294 rows × 4 columns</p>\n</div>"
     },
     "execution_count": 10,
     "metadata": {},
     "output_type": "execute_result"
    }
   ],
   "source": [
    "clean_weath = doct[['Humidity_2', 'Humidity_5', 'Humidity_8', 'Humidity_11']]\n",
    "clean_weath['Humidity_2'] = clean_weath['Humidity_2'].str.extract(r'(\\d+.\\d+)').astype('float')\n",
    "clean_weath['Humidity_5'] = clean_weath['Humidity_5'].str.extract(r'(\\d+.\\d+)').astype('float')\n",
    "clean_weath['Humidity_8'] = clean_weath['Humidity_8'].str.extract(r'(\\d+.\\d+)').astype('float')\n",
    "clean_weath['Humidity_11'] = clean_weath['Humidity_11'].str.extract(r'(\\d+.\\d+)').astype('float')\n",
    "clean_weath"
   ]
  },
  {
   "cell_type": "code",
   "execution_count": 11,
   "metadata": {
    "ExecuteTime": {
     "end_time": "2023-05-23T13:06:39.519733239Z",
     "start_time": "2023-05-23T13:06:38.587620487Z"
    }
   },
   "outputs": [],
   "source": [
    "new_df = pd.concat([df, clean_weath], axis=1)"
   ]
  },
  {
   "cell_type": "code",
   "execution_count": 12,
   "metadata": {
    "ExecuteTime": {
     "end_time": "2023-05-23T13:06:39.520339827Z",
     "start_time": "2023-05-23T13:06:38.588015271Z"
    }
   },
   "outputs": [
    {
     "data": {
      "text/plain": "       state              city rainfall  temperature   \n0       Abia               Aba     2747         25.6  \\\n1       Abia          Ahia Aba     2219         25.7   \n2       Abia             Bende     2112         26.1   \n3       Abia        Ihie Ndume     2122         25.8   \n4       Abia            Mbukwa     2112         26.1   \n..       ...               ...      ...          ...   \n289  Zamfara          Mai Didi      590         26.9   \n290  Zamfara        Ruwan Kura      505         27.1   \n291  Zamfara          Takulawa      696         25.8   \n292  Zamfara  Unguwar Alugwaji      577         27.0   \n293  Zamfara     Unguwar Kwolo      505         27.1   \n\n                                              humidity  Humidity_2   \n0    The month of highest relative humidity is June...       90.79  \\\n1    The month with the most relative humidity is S...       90.04   \n2    The month that sees the most relative humidity...       57.48   \n3    The month with the highest relative humidity i...       89.37   \n4    The month with the highest relative humidity i...       89.42   \n..                                                 ...         ...   \n289  The month with the highest relative humidity i...       81.98   \n290  The month with the most relative humidity is A...       81.02   \n291  The month with the highest relative humidity i...       83.41   \n292  The month with the highest relative humidity i...       81.16   \n293  The month of highest relative humidity is Augu...       81.02   \n\n     Humidity_5  Humidity_8  Humidity_11  \n0         67.66       11.20        28.67  \n1         61.71       28.07         5.67  \n2         57.48       28.07         4.67  \n3         58.35       28.07         4.80  \n4         59.93       28.07         4.67  \n..          ...         ...          ...  \n289       12.05       21.70         0.00  \n290       11.25       20.17         0.00  \n291       13.78       23.83         0.00  \n292       11.40       21.97         0.00  \n293       11.25        0.00        20.17  \n\n[294 rows x 9 columns]",
      "text/html": "<div>\n<style scoped>\n    .dataframe tbody tr th:only-of-type {\n        vertical-align: middle;\n    }\n\n    .dataframe tbody tr th {\n        vertical-align: top;\n    }\n\n    .dataframe thead th {\n        text-align: right;\n    }\n</style>\n<table border=\"1\" class=\"dataframe\">\n  <thead>\n    <tr style=\"text-align: right;\">\n      <th></th>\n      <th>state</th>\n      <th>city</th>\n      <th>rainfall</th>\n      <th>temperature</th>\n      <th>humidity</th>\n      <th>Humidity_2</th>\n      <th>Humidity_5</th>\n      <th>Humidity_8</th>\n      <th>Humidity_11</th>\n    </tr>\n  </thead>\n  <tbody>\n    <tr>\n      <th>0</th>\n      <td>Abia</td>\n      <td>Aba</td>\n      <td>2747</td>\n      <td>25.6</td>\n      <td>The month of highest relative humidity is June...</td>\n      <td>90.79</td>\n      <td>67.66</td>\n      <td>11.20</td>\n      <td>28.67</td>\n    </tr>\n    <tr>\n      <th>1</th>\n      <td>Abia</td>\n      <td>Ahia Aba</td>\n      <td>2219</td>\n      <td>25.7</td>\n      <td>The month with the most relative humidity is S...</td>\n      <td>90.04</td>\n      <td>61.71</td>\n      <td>28.07</td>\n      <td>5.67</td>\n    </tr>\n    <tr>\n      <th>2</th>\n      <td>Abia</td>\n      <td>Bende</td>\n      <td>2112</td>\n      <td>26.1</td>\n      <td>The month that sees the most relative humidity...</td>\n      <td>57.48</td>\n      <td>57.48</td>\n      <td>28.07</td>\n      <td>4.67</td>\n    </tr>\n    <tr>\n      <th>3</th>\n      <td>Abia</td>\n      <td>Ihie Ndume</td>\n      <td>2122</td>\n      <td>25.8</td>\n      <td>The month with the highest relative humidity i...</td>\n      <td>89.37</td>\n      <td>58.35</td>\n      <td>28.07</td>\n      <td>4.80</td>\n    </tr>\n    <tr>\n      <th>4</th>\n      <td>Abia</td>\n      <td>Mbukwa</td>\n      <td>2112</td>\n      <td>26.1</td>\n      <td>The month with the highest relative humidity i...</td>\n      <td>89.42</td>\n      <td>59.93</td>\n      <td>28.07</td>\n      <td>4.67</td>\n    </tr>\n    <tr>\n      <th>...</th>\n      <td>...</td>\n      <td>...</td>\n      <td>...</td>\n      <td>...</td>\n      <td>...</td>\n      <td>...</td>\n      <td>...</td>\n      <td>...</td>\n      <td>...</td>\n    </tr>\n    <tr>\n      <th>289</th>\n      <td>Zamfara</td>\n      <td>Mai Didi</td>\n      <td>590</td>\n      <td>26.9</td>\n      <td>The month with the highest relative humidity i...</td>\n      <td>81.98</td>\n      <td>12.05</td>\n      <td>21.70</td>\n      <td>0.00</td>\n    </tr>\n    <tr>\n      <th>290</th>\n      <td>Zamfara</td>\n      <td>Ruwan Kura</td>\n      <td>505</td>\n      <td>27.1</td>\n      <td>The month with the most relative humidity is A...</td>\n      <td>81.02</td>\n      <td>11.25</td>\n      <td>20.17</td>\n      <td>0.00</td>\n    </tr>\n    <tr>\n      <th>291</th>\n      <td>Zamfara</td>\n      <td>Takulawa</td>\n      <td>696</td>\n      <td>25.8</td>\n      <td>The month with the highest relative humidity i...</td>\n      <td>83.41</td>\n      <td>13.78</td>\n      <td>23.83</td>\n      <td>0.00</td>\n    </tr>\n    <tr>\n      <th>292</th>\n      <td>Zamfara</td>\n      <td>Unguwar Alugwaji</td>\n      <td>577</td>\n      <td>27.0</td>\n      <td>The month with the highest relative humidity i...</td>\n      <td>81.16</td>\n      <td>11.40</td>\n      <td>21.97</td>\n      <td>0.00</td>\n    </tr>\n    <tr>\n      <th>293</th>\n      <td>Zamfara</td>\n      <td>Unguwar Kwolo</td>\n      <td>505</td>\n      <td>27.1</td>\n      <td>The month of highest relative humidity is Augu...</td>\n      <td>81.02</td>\n      <td>11.25</td>\n      <td>0.00</td>\n      <td>20.17</td>\n    </tr>\n  </tbody>\n</table>\n<p>294 rows × 9 columns</p>\n</div>"
     },
     "execution_count": 12,
     "metadata": {},
     "output_type": "execute_result"
    }
   ],
   "source": [
    "new_df"
   ]
  },
  {
   "cell_type": "code",
   "execution_count": 13,
   "metadata": {
    "scrolled": true,
    "ExecuteTime": {
     "end_time": "2023-05-23T13:06:39.558932557Z",
     "start_time": "2023-05-23T13:06:38.631551965Z"
    }
   },
   "outputs": [
    {
     "data": {
      "text/plain": "  state        city rainfall  temperature  Humidity_2  Humidity_5  Humidity_8   \n0  Abia         Aba     2747         25.6       90.79       67.66       11.20  \\\n1  Abia    Ahia Aba     2219         25.7       90.04       61.71       28.07   \n2  Abia       Bende     2112         26.1       57.48       57.48       28.07   \n3  Abia  Ihie Ndume     2122         25.8       89.37       58.35       28.07   \n4  Abia      Mbukwa     2112         26.1       89.42       59.93       28.07   \n\n   Humidity_11  \n0        28.67  \n1         5.67  \n2         4.67  \n3         4.80  \n4         4.67  ",
      "text/html": "<div>\n<style scoped>\n    .dataframe tbody tr th:only-of-type {\n        vertical-align: middle;\n    }\n\n    .dataframe tbody tr th {\n        vertical-align: top;\n    }\n\n    .dataframe thead th {\n        text-align: right;\n    }\n</style>\n<table border=\"1\" class=\"dataframe\">\n  <thead>\n    <tr style=\"text-align: right;\">\n      <th></th>\n      <th>state</th>\n      <th>city</th>\n      <th>rainfall</th>\n      <th>temperature</th>\n      <th>Humidity_2</th>\n      <th>Humidity_5</th>\n      <th>Humidity_8</th>\n      <th>Humidity_11</th>\n    </tr>\n  </thead>\n  <tbody>\n    <tr>\n      <th>0</th>\n      <td>Abia</td>\n      <td>Aba</td>\n      <td>2747</td>\n      <td>25.6</td>\n      <td>90.79</td>\n      <td>67.66</td>\n      <td>11.20</td>\n      <td>28.67</td>\n    </tr>\n    <tr>\n      <th>1</th>\n      <td>Abia</td>\n      <td>Ahia Aba</td>\n      <td>2219</td>\n      <td>25.7</td>\n      <td>90.04</td>\n      <td>61.71</td>\n      <td>28.07</td>\n      <td>5.67</td>\n    </tr>\n    <tr>\n      <th>2</th>\n      <td>Abia</td>\n      <td>Bende</td>\n      <td>2112</td>\n      <td>26.1</td>\n      <td>57.48</td>\n      <td>57.48</td>\n      <td>28.07</td>\n      <td>4.67</td>\n    </tr>\n    <tr>\n      <th>3</th>\n      <td>Abia</td>\n      <td>Ihie Ndume</td>\n      <td>2122</td>\n      <td>25.8</td>\n      <td>89.37</td>\n      <td>58.35</td>\n      <td>28.07</td>\n      <td>4.80</td>\n    </tr>\n    <tr>\n      <th>4</th>\n      <td>Abia</td>\n      <td>Mbukwa</td>\n      <td>2112</td>\n      <td>26.1</td>\n      <td>89.42</td>\n      <td>59.93</td>\n      <td>28.07</td>\n      <td>4.67</td>\n    </tr>\n  </tbody>\n</table>\n</div>"
     },
     "execution_count": 13,
     "metadata": {},
     "output_type": "execute_result"
    }
   ],
   "source": [
    "state_df = new_df.drop('humidity', axis=1)\n",
    "state_df.head()"
   ]
  },
  {
   "cell_type": "code",
   "execution_count": 14,
   "metadata": {
    "ExecuteTime": {
     "end_time": "2023-05-23T13:06:39.559578874Z",
     "start_time": "2023-05-23T13:06:38.632105874Z"
    }
   },
   "outputs": [],
   "source": [
    "# state_df['rainfall'] = state_df['rainfall'].str.replace(r'([a-zA-Z|\\n/.,>:()'']+)', '', regex=True)\n",
    "state_df['rainfall'] = state_df['rainfall'].str.extract(r'(\\d+.\\d+)').astype('float')"
   ]
  },
  {
   "cell_type": "code",
   "execution_count": 15,
   "metadata": {
    "ExecuteTime": {
     "end_time": "2023-05-23T13:06:39.639323597Z",
     "start_time": "2023-05-23T13:06:38.632565252Z"
    }
   },
   "outputs": [
    {
     "name": "stdout",
     "output_type": "stream",
     "text": [
      "<class 'pandas.core.frame.DataFrame'>\n",
      "RangeIndex: 294 entries, 0 to 293\n",
      "Data columns (total 8 columns):\n",
      " #   Column       Non-Null Count  Dtype  \n",
      "---  ------       --------------  -----  \n",
      " 0   state        294 non-null    object \n",
      " 1   city         294 non-null    object \n",
      " 2   rainfall     286 non-null    float64\n",
      " 3   temperature  294 non-null    float64\n",
      " 4   Humidity_2   294 non-null    float64\n",
      " 5   Humidity_5   294 non-null    float64\n",
      " 6   Humidity_8   294 non-null    float64\n",
      " 7   Humidity_11  294 non-null    float64\n",
      "dtypes: float64(6), object(2)\n",
      "memory usage: 18.5+ KB\n"
     ]
    }
   ],
   "source": [
    "state_df.info()"
   ]
  },
  {
   "cell_type": "code",
   "execution_count": 16,
   "metadata": {
    "ExecuteTime": {
     "end_time": "2023-05-23T13:06:40.248614376Z",
     "start_time": "2023-05-23T13:06:38.651613961Z"
    }
   },
   "outputs": [
    {
     "data": {
      "text/plain": "       state  rainfall  temperature  mean_humidity  mean_rainfall\n0       Abia    2747.0         25.6         79.225         19.935\n1       Abia    2219.0         25.7         75.875         16.870\n2       Abia    2112.0         26.1         57.480         16.370\n3       Abia    2122.0         25.8         73.860         16.435\n4       Abia    2112.0         26.1         74.675         16.370\n..       ...       ...          ...            ...            ...\n289  Zamfara     590.0         26.9         47.015         10.850\n290  Zamfara     505.0         27.1         46.135         10.085\n291  Zamfara     696.0         25.8         48.595         11.915\n292  Zamfara     577.0         27.0         46.280         10.985\n293  Zamfara     505.0         27.1         46.135         10.085\n\n[294 rows x 5 columns]",
      "text/html": "<div>\n<style scoped>\n    .dataframe tbody tr th:only-of-type {\n        vertical-align: middle;\n    }\n\n    .dataframe tbody tr th {\n        vertical-align: top;\n    }\n\n    .dataframe thead th {\n        text-align: right;\n    }\n</style>\n<table border=\"1\" class=\"dataframe\">\n  <thead>\n    <tr style=\"text-align: right;\">\n      <th></th>\n      <th>state</th>\n      <th>rainfall</th>\n      <th>temperature</th>\n      <th>mean_humidity</th>\n      <th>mean_rainfall</th>\n    </tr>\n  </thead>\n  <tbody>\n    <tr>\n      <th>0</th>\n      <td>Abia</td>\n      <td>2747.0</td>\n      <td>25.6</td>\n      <td>79.225</td>\n      <td>19.935</td>\n    </tr>\n    <tr>\n      <th>1</th>\n      <td>Abia</td>\n      <td>2219.0</td>\n      <td>25.7</td>\n      <td>75.875</td>\n      <td>16.870</td>\n    </tr>\n    <tr>\n      <th>2</th>\n      <td>Abia</td>\n      <td>2112.0</td>\n      <td>26.1</td>\n      <td>57.480</td>\n      <td>16.370</td>\n    </tr>\n    <tr>\n      <th>3</th>\n      <td>Abia</td>\n      <td>2122.0</td>\n      <td>25.8</td>\n      <td>73.860</td>\n      <td>16.435</td>\n    </tr>\n    <tr>\n      <th>4</th>\n      <td>Abia</td>\n      <td>2112.0</td>\n      <td>26.1</td>\n      <td>74.675</td>\n      <td>16.370</td>\n    </tr>\n    <tr>\n      <th>...</th>\n      <td>...</td>\n      <td>...</td>\n      <td>...</td>\n      <td>...</td>\n      <td>...</td>\n    </tr>\n    <tr>\n      <th>289</th>\n      <td>Zamfara</td>\n      <td>590.0</td>\n      <td>26.9</td>\n      <td>47.015</td>\n      <td>10.850</td>\n    </tr>\n    <tr>\n      <th>290</th>\n      <td>Zamfara</td>\n      <td>505.0</td>\n      <td>27.1</td>\n      <td>46.135</td>\n      <td>10.085</td>\n    </tr>\n    <tr>\n      <th>291</th>\n      <td>Zamfara</td>\n      <td>696.0</td>\n      <td>25.8</td>\n      <td>48.595</td>\n      <td>11.915</td>\n    </tr>\n    <tr>\n      <th>292</th>\n      <td>Zamfara</td>\n      <td>577.0</td>\n      <td>27.0</td>\n      <td>46.280</td>\n      <td>10.985</td>\n    </tr>\n    <tr>\n      <th>293</th>\n      <td>Zamfara</td>\n      <td>505.0</td>\n      <td>27.1</td>\n      <td>46.135</td>\n      <td>10.085</td>\n    </tr>\n  </tbody>\n</table>\n<p>294 rows × 5 columns</p>\n</div>"
     },
     "execution_count": 16,
     "metadata": {},
     "output_type": "execute_result"
    }
   ],
   "source": [
    "state_df['mean_humidity'] = state_df[['Humidity_2', 'Humidity_5']].mean(axis=1)\n",
    "state_df['mean_rainfall'] = state_df[['Humidity_8', 'Humidity_11']].mean(axis=1)\n",
    "state_df_ = state_df.drop(columns=['Humidity_2', 'Humidity_5', 'Humidity_8', 'Humidity_11', 'city'])\n",
    "state_df_"
   ]
  },
  {
   "cell_type": "code",
   "execution_count": 17,
   "metadata": {
    "ExecuteTime": {
     "end_time": "2023-05-23T13:06:40.373894337Z",
     "start_time": "2023-05-23T13:06:38.700595892Z"
    }
   },
   "outputs": [
    {
     "data": {
      "text/plain": "                        state     rainfall  temperature  mean_humidity   \n0                        Abia  2190.200000    25.960000       72.55800  \\\n1                     Adamawa   683.600000    27.480000       35.97300   \n2                   Akwa Ibom  3033.000000    25.725000       81.29625   \n3                     Anambra  1708.400000    26.620000       62.10700   \n4                      Bauchi   695.900000    26.630000       36.41200   \n5                     Bayelsa  2824.600000    26.290000       81.94050   \n6                       Benue  1348.000000    27.540000       57.15400   \n7                       Borno   431.785714    27.973333       37.58400   \n8                 Cross River  2427.200000    26.580000       69.68700   \n9                       Delta  2394.444444    26.130000       74.54900   \n10                     Ebonyi  1576.400000    27.280000       64.05200   \n11                        Edo  2594.500000    25.800000       79.58250   \n12                      Ekiti  1543.400000    24.860000       67.11600   \n13                      Enugu  1778.400000    26.500000       59.06700   \n14  Federal Capital Territory  1487.600000    26.480000       44.18400   \n15                      Gombe   510.000000    27.790000       26.34050   \n16                        Imo  2266.000000    25.770000       74.40850   \n17                     Jigawa   546.600000    27.206667       40.21900   \n18                     Kaduna   998.000000    25.200000       52.70500   \n19                       Kano   745.400000    25.960000       40.82550   \n20                    Katsina   585.700000    26.050000       43.28000   \n21                      Kebbi   586.000000    28.930000       36.19850   \n22                       Kogi  1089.200000    27.380000       48.81400   \n23                      Kwara  1075.666667    26.840000       58.92200   \n24                      Lagos  1765.750000    26.540000       77.51500   \n25                   Nasarawa  1390.000000    27.520000       54.90900   \n26                      Niger  1208.600000    28.060000       42.32100   \n27                       Ogun  1869.200000    26.180000       77.28600   \n28                       Ondo  2332.900000    25.820000       75.86800   \n29                       Osun  1428.000000    25.540000       68.94800   \n30                        Oyo  1210.600000    25.920000       69.12500   \n31                    Plateau  1329.800000    23.740000       33.55700   \n32                     Rivers  2636.000000    26.190000       81.98400   \n33                     Sokoto   506.800000    28.800000       41.84550   \n34                     Taraba  2018.600000    23.940000       52.28900   \n35                       Yobe   450.866667    27.666667       42.16200   \n36                    Zamfara   585.700000    26.780000       43.31900   \n\n    mean_rainfall  \n0       16.802500  \n1       11.306000  \n2       20.035000  \n3       14.739000  \n4       11.597500  \n5       22.691500  \n6       13.563000  \n7        9.806333  \n8       17.541000  \n9       18.378500  \n10      14.121000  \n11      20.385500  \n12      14.493000  \n13      14.570000  \n14      14.230000  \n15      10.466500  \n16      16.935500  \n17      10.617000  \n18      13.465000  \n19      11.933000  \n20      11.185500  \n21      10.775500  \n22      12.260000  \n23      12.210000  \n24      19.374000  \n25      13.797000  \n26      13.286000  \n27      18.454000  \n28      19.587000  \n29      14.958000  \n30      15.254000  \n31      13.707000  \n32      21.498500  \n33      10.160000  \n34      13.312000  \n35       9.739333  \n36      10.956000  ",
      "text/html": "<div>\n<style scoped>\n    .dataframe tbody tr th:only-of-type {\n        vertical-align: middle;\n    }\n\n    .dataframe tbody tr th {\n        vertical-align: top;\n    }\n\n    .dataframe thead th {\n        text-align: right;\n    }\n</style>\n<table border=\"1\" class=\"dataframe\">\n  <thead>\n    <tr style=\"text-align: right;\">\n      <th></th>\n      <th>state</th>\n      <th>rainfall</th>\n      <th>temperature</th>\n      <th>mean_humidity</th>\n      <th>mean_rainfall</th>\n    </tr>\n  </thead>\n  <tbody>\n    <tr>\n      <th>0</th>\n      <td>Abia</td>\n      <td>2190.200000</td>\n      <td>25.960000</td>\n      <td>72.55800</td>\n      <td>16.802500</td>\n    </tr>\n    <tr>\n      <th>1</th>\n      <td>Adamawa</td>\n      <td>683.600000</td>\n      <td>27.480000</td>\n      <td>35.97300</td>\n      <td>11.306000</td>\n    </tr>\n    <tr>\n      <th>2</th>\n      <td>Akwa Ibom</td>\n      <td>3033.000000</td>\n      <td>25.725000</td>\n      <td>81.29625</td>\n      <td>20.035000</td>\n    </tr>\n    <tr>\n      <th>3</th>\n      <td>Anambra</td>\n      <td>1708.400000</td>\n      <td>26.620000</td>\n      <td>62.10700</td>\n      <td>14.739000</td>\n    </tr>\n    <tr>\n      <th>4</th>\n      <td>Bauchi</td>\n      <td>695.900000</td>\n      <td>26.630000</td>\n      <td>36.41200</td>\n      <td>11.597500</td>\n    </tr>\n    <tr>\n      <th>5</th>\n      <td>Bayelsa</td>\n      <td>2824.600000</td>\n      <td>26.290000</td>\n      <td>81.94050</td>\n      <td>22.691500</td>\n    </tr>\n    <tr>\n      <th>6</th>\n      <td>Benue</td>\n      <td>1348.000000</td>\n      <td>27.540000</td>\n      <td>57.15400</td>\n      <td>13.563000</td>\n    </tr>\n    <tr>\n      <th>7</th>\n      <td>Borno</td>\n      <td>431.785714</td>\n      <td>27.973333</td>\n      <td>37.58400</td>\n      <td>9.806333</td>\n    </tr>\n    <tr>\n      <th>8</th>\n      <td>Cross River</td>\n      <td>2427.200000</td>\n      <td>26.580000</td>\n      <td>69.68700</td>\n      <td>17.541000</td>\n    </tr>\n    <tr>\n      <th>9</th>\n      <td>Delta</td>\n      <td>2394.444444</td>\n      <td>26.130000</td>\n      <td>74.54900</td>\n      <td>18.378500</td>\n    </tr>\n    <tr>\n      <th>10</th>\n      <td>Ebonyi</td>\n      <td>1576.400000</td>\n      <td>27.280000</td>\n      <td>64.05200</td>\n      <td>14.121000</td>\n    </tr>\n    <tr>\n      <th>11</th>\n      <td>Edo</td>\n      <td>2594.500000</td>\n      <td>25.800000</td>\n      <td>79.58250</td>\n      <td>20.385500</td>\n    </tr>\n    <tr>\n      <th>12</th>\n      <td>Ekiti</td>\n      <td>1543.400000</td>\n      <td>24.860000</td>\n      <td>67.11600</td>\n      <td>14.493000</td>\n    </tr>\n    <tr>\n      <th>13</th>\n      <td>Enugu</td>\n      <td>1778.400000</td>\n      <td>26.500000</td>\n      <td>59.06700</td>\n      <td>14.570000</td>\n    </tr>\n    <tr>\n      <th>14</th>\n      <td>Federal Capital Territory</td>\n      <td>1487.600000</td>\n      <td>26.480000</td>\n      <td>44.18400</td>\n      <td>14.230000</td>\n    </tr>\n    <tr>\n      <th>15</th>\n      <td>Gombe</td>\n      <td>510.000000</td>\n      <td>27.790000</td>\n      <td>26.34050</td>\n      <td>10.466500</td>\n    </tr>\n    <tr>\n      <th>16</th>\n      <td>Imo</td>\n      <td>2266.000000</td>\n      <td>25.770000</td>\n      <td>74.40850</td>\n      <td>16.935500</td>\n    </tr>\n    <tr>\n      <th>17</th>\n      <td>Jigawa</td>\n      <td>546.600000</td>\n      <td>27.206667</td>\n      <td>40.21900</td>\n      <td>10.617000</td>\n    </tr>\n    <tr>\n      <th>18</th>\n      <td>Kaduna</td>\n      <td>998.000000</td>\n      <td>25.200000</td>\n      <td>52.70500</td>\n      <td>13.465000</td>\n    </tr>\n    <tr>\n      <th>19</th>\n      <td>Kano</td>\n      <td>745.400000</td>\n      <td>25.960000</td>\n      <td>40.82550</td>\n      <td>11.933000</td>\n    </tr>\n    <tr>\n      <th>20</th>\n      <td>Katsina</td>\n      <td>585.700000</td>\n      <td>26.050000</td>\n      <td>43.28000</td>\n      <td>11.185500</td>\n    </tr>\n    <tr>\n      <th>21</th>\n      <td>Kebbi</td>\n      <td>586.000000</td>\n      <td>28.930000</td>\n      <td>36.19850</td>\n      <td>10.775500</td>\n    </tr>\n    <tr>\n      <th>22</th>\n      <td>Kogi</td>\n      <td>1089.200000</td>\n      <td>27.380000</td>\n      <td>48.81400</td>\n      <td>12.260000</td>\n    </tr>\n    <tr>\n      <th>23</th>\n      <td>Kwara</td>\n      <td>1075.666667</td>\n      <td>26.840000</td>\n      <td>58.92200</td>\n      <td>12.210000</td>\n    </tr>\n    <tr>\n      <th>24</th>\n      <td>Lagos</td>\n      <td>1765.750000</td>\n      <td>26.540000</td>\n      <td>77.51500</td>\n      <td>19.374000</td>\n    </tr>\n    <tr>\n      <th>25</th>\n      <td>Nasarawa</td>\n      <td>1390.000000</td>\n      <td>27.520000</td>\n      <td>54.90900</td>\n      <td>13.797000</td>\n    </tr>\n    <tr>\n      <th>26</th>\n      <td>Niger</td>\n      <td>1208.600000</td>\n      <td>28.060000</td>\n      <td>42.32100</td>\n      <td>13.286000</td>\n    </tr>\n    <tr>\n      <th>27</th>\n      <td>Ogun</td>\n      <td>1869.200000</td>\n      <td>26.180000</td>\n      <td>77.28600</td>\n      <td>18.454000</td>\n    </tr>\n    <tr>\n      <th>28</th>\n      <td>Ondo</td>\n      <td>2332.900000</td>\n      <td>25.820000</td>\n      <td>75.86800</td>\n      <td>19.587000</td>\n    </tr>\n    <tr>\n      <th>29</th>\n      <td>Osun</td>\n      <td>1428.000000</td>\n      <td>25.540000</td>\n      <td>68.94800</td>\n      <td>14.958000</td>\n    </tr>\n    <tr>\n      <th>30</th>\n      <td>Oyo</td>\n      <td>1210.600000</td>\n      <td>25.920000</td>\n      <td>69.12500</td>\n      <td>15.254000</td>\n    </tr>\n    <tr>\n      <th>31</th>\n      <td>Plateau</td>\n      <td>1329.800000</td>\n      <td>23.740000</td>\n      <td>33.55700</td>\n      <td>13.707000</td>\n    </tr>\n    <tr>\n      <th>32</th>\n      <td>Rivers</td>\n      <td>2636.000000</td>\n      <td>26.190000</td>\n      <td>81.98400</td>\n      <td>21.498500</td>\n    </tr>\n    <tr>\n      <th>33</th>\n      <td>Sokoto</td>\n      <td>506.800000</td>\n      <td>28.800000</td>\n      <td>41.84550</td>\n      <td>10.160000</td>\n    </tr>\n    <tr>\n      <th>34</th>\n      <td>Taraba</td>\n      <td>2018.600000</td>\n      <td>23.940000</td>\n      <td>52.28900</td>\n      <td>13.312000</td>\n    </tr>\n    <tr>\n      <th>35</th>\n      <td>Yobe</td>\n      <td>450.866667</td>\n      <td>27.666667</td>\n      <td>42.16200</td>\n      <td>9.739333</td>\n    </tr>\n    <tr>\n      <th>36</th>\n      <td>Zamfara</td>\n      <td>585.700000</td>\n      <td>26.780000</td>\n      <td>43.31900</td>\n      <td>10.956000</td>\n    </tr>\n  </tbody>\n</table>\n</div>"
     },
     "execution_count": 17,
     "metadata": {},
     "output_type": "execute_result"
    }
   ],
   "source": [
    "state_mean_df = state_df_.groupby(['state']).mean()\n",
    "state_mean_df.reset_index(level=0, inplace=True)\n",
    "state_mean_df"
   ]
  },
  {
   "cell_type": "code",
   "execution_count": 18,
   "metadata": {
    "ExecuteTime": {
     "end_time": "2023-05-23T13:06:40.410156121Z",
     "start_time": "2023-05-23T13:06:38.748116602Z"
    }
   },
   "outputs": [
    {
     "data": {
      "text/plain": "      city  county   state         project Farm    Depth  Depthcode       pH   \n0  Kantoro  Shanga  Kebbi   OCP fertilizer  Has  0-20 cm          1  6.11879  \\\n1  Kantoro  Shanga  Kebbi   OCP fertilizer  Has  0-20 cm          1  6.13216   \n2   Kawara  Shanga  Kebbi   OCP fertilizer  Has  0-20 cm          1  6.43914   \n3   Kawara  Shanga  Kebbi   OCP fertilizer  Has  0-20 cm          1  5.76363   \n4   Kawara  Shanga  Kebbi   OCP fertilizer  Has  0-20 cm          1  6.76575   \n\n          N        OC  ...            PH_DESCRIP           SUITABILIT   \n0  0.043971  0.478427  ...  Very Strongly Acidic  Moderately Suitable  \\\n1  0.071001  0.612303  ...  Very Strongly Acidic  Moderately Suitable   \n2  0.057943  0.542822  ...  Very Strongly Acidic  Moderately Suitable   \n3  0.068463  0.434531  ...  Very Strongly Acidic  Moderately Suitable   \n4  0.054880  0.740769  ...  Very Strongly Acidic  Moderately Suitable   \n\n   SOIL_TEXTU         SOIL_CLASS                             VEGETATION   \n0  Sandy Loam  Typic Ustifluvent  Cultivated to swamp rice and oil palm  \\\n1  Sandy Loam  Typic Ustifluvent  Cultivated to swamp rice and oil palm   \n2  Sandy Loam  Typic Ustifluvent  Cultivated to swamp rice and oil palm   \n3  Sandy Loam  Typic Ustifluvent  Cultivated to swamp rice and oil palm   \n4  Sandy Loam  Typic Ustifluvent  Cultivated to swamp rice and oil palm   \n\n   DISTRIBUTI       SOIL_CLA_1  PERCENTAGE   \n0   76,515.95  Eutric Fluvisol        8.28  \\\n1   76,515.95  Eutric Fluvisol        8.28   \n2   76,515.95  Eutric Fluvisol        8.28   \n3   76,515.95  Eutric Fluvisol        8.28   \n4   76,515.95  Eutric Fluvisol        8.28   \n\n                               MAJOR_CROP            Depth_2  \n0  Yam, Rice,Maize, Millet,Irish Potatoes  Deep, Mostly Deep  \n1  Yam, Rice,Maize, Millet,Irish Potatoes  Deep, Mostly Deep  \n2  Yam, Rice,Maize, Millet,Irish Potatoes  Deep, Mostly Deep  \n3  Yam, Rice,Maize, Millet,Irish Potatoes  Deep, Mostly Deep  \n4  Yam, Rice,Maize, Millet,Irish Potatoes  Deep, Mostly Deep  \n\n[5 rows x 36 columns]",
      "text/html": "<div>\n<style scoped>\n    .dataframe tbody tr th:only-of-type {\n        vertical-align: middle;\n    }\n\n    .dataframe tbody tr th {\n        vertical-align: top;\n    }\n\n    .dataframe thead th {\n        text-align: right;\n    }\n</style>\n<table border=\"1\" class=\"dataframe\">\n  <thead>\n    <tr style=\"text-align: right;\">\n      <th></th>\n      <th>city</th>\n      <th>county</th>\n      <th>state</th>\n      <th>project</th>\n      <th>Farm</th>\n      <th>Depth</th>\n      <th>Depthcode</th>\n      <th>pH</th>\n      <th>N</th>\n      <th>OC</th>\n      <th>...</th>\n      <th>PH_DESCRIP</th>\n      <th>SUITABILIT</th>\n      <th>SOIL_TEXTU</th>\n      <th>SOIL_CLASS</th>\n      <th>VEGETATION</th>\n      <th>DISTRIBUTI</th>\n      <th>SOIL_CLA_1</th>\n      <th>PERCENTAGE</th>\n      <th>MAJOR_CROP</th>\n      <th>Depth_2</th>\n    </tr>\n  </thead>\n  <tbody>\n    <tr>\n      <th>0</th>\n      <td>Kantoro</td>\n      <td>Shanga</td>\n      <td>Kebbi</td>\n      <td>OCP fertilizer</td>\n      <td>Has</td>\n      <td>0-20 cm</td>\n      <td>1</td>\n      <td>6.11879</td>\n      <td>0.043971</td>\n      <td>0.478427</td>\n      <td>...</td>\n      <td>Very Strongly Acidic</td>\n      <td>Moderately Suitable</td>\n      <td>Sandy Loam</td>\n      <td>Typic Ustifluvent</td>\n      <td>Cultivated to swamp rice and oil palm</td>\n      <td>76,515.95</td>\n      <td>Eutric Fluvisol</td>\n      <td>8.28</td>\n      <td>Yam, Rice,Maize, Millet,Irish Potatoes</td>\n      <td>Deep, Mostly Deep</td>\n    </tr>\n    <tr>\n      <th>1</th>\n      <td>Kantoro</td>\n      <td>Shanga</td>\n      <td>Kebbi</td>\n      <td>OCP fertilizer</td>\n      <td>Has</td>\n      <td>0-20 cm</td>\n      <td>1</td>\n      <td>6.13216</td>\n      <td>0.071001</td>\n      <td>0.612303</td>\n      <td>...</td>\n      <td>Very Strongly Acidic</td>\n      <td>Moderately Suitable</td>\n      <td>Sandy Loam</td>\n      <td>Typic Ustifluvent</td>\n      <td>Cultivated to swamp rice and oil palm</td>\n      <td>76,515.95</td>\n      <td>Eutric Fluvisol</td>\n      <td>8.28</td>\n      <td>Yam, Rice,Maize, Millet,Irish Potatoes</td>\n      <td>Deep, Mostly Deep</td>\n    </tr>\n    <tr>\n      <th>2</th>\n      <td>Kawara</td>\n      <td>Shanga</td>\n      <td>Kebbi</td>\n      <td>OCP fertilizer</td>\n      <td>Has</td>\n      <td>0-20 cm</td>\n      <td>1</td>\n      <td>6.43914</td>\n      <td>0.057943</td>\n      <td>0.542822</td>\n      <td>...</td>\n      <td>Very Strongly Acidic</td>\n      <td>Moderately Suitable</td>\n      <td>Sandy Loam</td>\n      <td>Typic Ustifluvent</td>\n      <td>Cultivated to swamp rice and oil palm</td>\n      <td>76,515.95</td>\n      <td>Eutric Fluvisol</td>\n      <td>8.28</td>\n      <td>Yam, Rice,Maize, Millet,Irish Potatoes</td>\n      <td>Deep, Mostly Deep</td>\n    </tr>\n    <tr>\n      <th>3</th>\n      <td>Kawara</td>\n      <td>Shanga</td>\n      <td>Kebbi</td>\n      <td>OCP fertilizer</td>\n      <td>Has</td>\n      <td>0-20 cm</td>\n      <td>1</td>\n      <td>5.76363</td>\n      <td>0.068463</td>\n      <td>0.434531</td>\n      <td>...</td>\n      <td>Very Strongly Acidic</td>\n      <td>Moderately Suitable</td>\n      <td>Sandy Loam</td>\n      <td>Typic Ustifluvent</td>\n      <td>Cultivated to swamp rice and oil palm</td>\n      <td>76,515.95</td>\n      <td>Eutric Fluvisol</td>\n      <td>8.28</td>\n      <td>Yam, Rice,Maize, Millet,Irish Potatoes</td>\n      <td>Deep, Mostly Deep</td>\n    </tr>\n    <tr>\n      <th>4</th>\n      <td>Kawara</td>\n      <td>Shanga</td>\n      <td>Kebbi</td>\n      <td>OCP fertilizer</td>\n      <td>Has</td>\n      <td>0-20 cm</td>\n      <td>1</td>\n      <td>6.76575</td>\n      <td>0.054880</td>\n      <td>0.740769</td>\n      <td>...</td>\n      <td>Very Strongly Acidic</td>\n      <td>Moderately Suitable</td>\n      <td>Sandy Loam</td>\n      <td>Typic Ustifluvent</td>\n      <td>Cultivated to swamp rice and oil palm</td>\n      <td>76,515.95</td>\n      <td>Eutric Fluvisol</td>\n      <td>8.28</td>\n      <td>Yam, Rice,Maize, Millet,Irish Potatoes</td>\n      <td>Deep, Mostly Deep</td>\n    </tr>\n  </tbody>\n</table>\n<p>5 rows × 36 columns</p>\n</div>"
     },
     "execution_count": 18,
     "metadata": {},
     "output_type": "execute_result"
    }
   ],
   "source": [
    "soil_df = pd.read_csv('Nigeria_soils_ocp.csv')\n",
    "soil_df['state'] = soil_df['state'].str.replace('State', '', regex=True)\n",
    "soil_df.head()"
   ]
  },
  {
   "cell_type": "code",
   "execution_count": 19,
   "metadata": {
    "ExecuteTime": {
     "end_time": "2023-05-23T13:06:40.432532998Z",
     "start_time": "2023-05-23T13:06:38.806961064Z"
    }
   },
   "outputs": [
    {
     "data": {
      "text/plain": "(3256, 36)"
     },
     "execution_count": 19,
     "metadata": {},
     "output_type": "execute_result"
    }
   ],
   "source": [
    "soil_df.shape"
   ]
  },
  {
   "cell_type": "code",
   "execution_count": 20,
   "metadata": {
    "ExecuteTime": {
     "end_time": "2023-05-23T13:06:40.438118057Z",
     "start_time": "2023-05-23T13:06:38.847622705Z"
    }
   },
   "outputs": [
    {
     "data": {
      "text/plain": "state\nNiger                        696\nKaduna                       544\nNasarawa                     503\nPlateau                      420\nBauchi                       372\nTaraba                       193\nKatsina                      161\nKano                         127\nKebbi                         48\nKogi                          48\nBenue                         42\nFederal Capital Territory     35\nKwara                         10\nAdamawa                        7\nBayelsa                        5\nName: count, dtype: int64"
     },
     "execution_count": 20,
     "metadata": {},
     "output_type": "execute_result"
    }
   ],
   "source": [
    "soil_df.state = soil_df.state.str.strip()\n",
    "soil_df.state.value_counts()"
   ]
  },
  {
   "cell_type": "code",
   "execution_count": 21,
   "metadata": {
    "ExecuteTime": {
     "end_time": "2023-05-23T13:06:40.444368750Z",
     "start_time": "2023-05-23T13:06:38.848018326Z"
    }
   },
   "outputs": [
    {
     "data": {
      "text/plain": "     state  rainfall  temperature  mean_humidity  mean_rainfall city   \n0  Adamawa     683.6        27.48         35.973         11.306  NaN  \\\n1  Adamawa     683.6        27.48         35.973         11.306  NaN   \n2  Adamawa     683.6        27.48         35.973         11.306  NaN   \n3  Adamawa     683.6        27.48         35.973         11.306  NaN   \n4  Adamawa     683.6        27.48         35.973         11.306  NaN   \n\n       county         project Farm     Depth  ...   \n0  Mayo-Belwa  OCP fertilizer   Nm  20-40 cm  ...  \\\n1  Mayo-Belwa  OCP fertilizer   Nm  20-40 cm  ...   \n2  Mayo-Belwa  OCP fertilizer   Nm   0-20 cm  ...   \n3  Mayo-Belwa  OCP fertilizer   Nm   0-20 cm  ...   \n4  Mayo-Belwa  OCP fertilizer   Nm   0-20 cm  ...   \n\n                          PH_DESCRIP           SUITABILIT  SOIL_TEXTU   \n0  Strogly acidic to Slightly Acidic  Moderately Suitable   Clay Loam  \\\n1  Strogly acidic to Slightly Acidic  Moderately Suitable   Clay Loam   \n2  Strogly acidic to Slightly Acidic  Moderately Suitable   Clay Loam   \n3  Strogly acidic to Slightly Acidic  Moderately Suitable   Clay Loam   \n4  Strogly acidic to Slightly Acidic  Moderately Suitable   Clay Loam   \n\n       SOIL_CLASS  VEGETATION  DISTRIBUTI       SOIL_CLA_1  PERCENTAGE   \n0  Oxic Ustropept       Grass   92,048.48  Eutric cambisol        9.96  \\\n1  Oxic Ustropept       Grass   92,048.48  Eutric cambisol        9.96   \n2  Oxic Ustropept       Grass   92,048.48  Eutric cambisol        9.96   \n3  Oxic Ustropept       Grass   92,048.48  Eutric cambisol        9.96   \n4  Oxic Ustropept       Grass   92,048.48  Eutric cambisol        9.96   \n\n                                          MAJOR_CROP   \n0  Sugarcane,Cassava,Yam,Irish Potatoes,Cocoa,Rub...  \\\n1  Sugarcane,Cassava,Yam,Irish Potatoes,Cocoa,Rub...   \n2  Sugarcane,Cassava,Yam,Irish Potatoes,Cocoa,Rub...   \n3  Sugarcane,Cassava,Yam,Irish Potatoes,Cocoa,Rub...   \n4  Sugarcane,Cassava,Yam,Irish Potatoes,Cocoa,Rub...   \n\n                      Depth_2  \n0  Moderately, Generally Deep  \n1  Moderately, Generally Deep  \n2  Moderately, Generally Deep  \n3  Moderately, Generally Deep  \n4  Moderately, Generally Deep  \n\n[5 rows x 40 columns]",
      "text/html": "<div>\n<style scoped>\n    .dataframe tbody tr th:only-of-type {\n        vertical-align: middle;\n    }\n\n    .dataframe tbody tr th {\n        vertical-align: top;\n    }\n\n    .dataframe thead th {\n        text-align: right;\n    }\n</style>\n<table border=\"1\" class=\"dataframe\">\n  <thead>\n    <tr style=\"text-align: right;\">\n      <th></th>\n      <th>state</th>\n      <th>rainfall</th>\n      <th>temperature</th>\n      <th>mean_humidity</th>\n      <th>mean_rainfall</th>\n      <th>city</th>\n      <th>county</th>\n      <th>project</th>\n      <th>Farm</th>\n      <th>Depth</th>\n      <th>...</th>\n      <th>PH_DESCRIP</th>\n      <th>SUITABILIT</th>\n      <th>SOIL_TEXTU</th>\n      <th>SOIL_CLASS</th>\n      <th>VEGETATION</th>\n      <th>DISTRIBUTI</th>\n      <th>SOIL_CLA_1</th>\n      <th>PERCENTAGE</th>\n      <th>MAJOR_CROP</th>\n      <th>Depth_2</th>\n    </tr>\n  </thead>\n  <tbody>\n    <tr>\n      <th>0</th>\n      <td>Adamawa</td>\n      <td>683.6</td>\n      <td>27.48</td>\n      <td>35.973</td>\n      <td>11.306</td>\n      <td>NaN</td>\n      <td>Mayo-Belwa</td>\n      <td>OCP fertilizer</td>\n      <td>Nm</td>\n      <td>20-40 cm</td>\n      <td>...</td>\n      <td>Strogly acidic to Slightly Acidic</td>\n      <td>Moderately Suitable</td>\n      <td>Clay Loam</td>\n      <td>Oxic Ustropept</td>\n      <td>Grass</td>\n      <td>92,048.48</td>\n      <td>Eutric cambisol</td>\n      <td>9.96</td>\n      <td>Sugarcane,Cassava,Yam,Irish Potatoes,Cocoa,Rub...</td>\n      <td>Moderately, Generally Deep</td>\n    </tr>\n    <tr>\n      <th>1</th>\n      <td>Adamawa</td>\n      <td>683.6</td>\n      <td>27.48</td>\n      <td>35.973</td>\n      <td>11.306</td>\n      <td>NaN</td>\n      <td>Mayo-Belwa</td>\n      <td>OCP fertilizer</td>\n      <td>Nm</td>\n      <td>20-40 cm</td>\n      <td>...</td>\n      <td>Strogly acidic to Slightly Acidic</td>\n      <td>Moderately Suitable</td>\n      <td>Clay Loam</td>\n      <td>Oxic Ustropept</td>\n      <td>Grass</td>\n      <td>92,048.48</td>\n      <td>Eutric cambisol</td>\n      <td>9.96</td>\n      <td>Sugarcane,Cassava,Yam,Irish Potatoes,Cocoa,Rub...</td>\n      <td>Moderately, Generally Deep</td>\n    </tr>\n    <tr>\n      <th>2</th>\n      <td>Adamawa</td>\n      <td>683.6</td>\n      <td>27.48</td>\n      <td>35.973</td>\n      <td>11.306</td>\n      <td>NaN</td>\n      <td>Mayo-Belwa</td>\n      <td>OCP fertilizer</td>\n      <td>Nm</td>\n      <td>0-20 cm</td>\n      <td>...</td>\n      <td>Strogly acidic to Slightly Acidic</td>\n      <td>Moderately Suitable</td>\n      <td>Clay Loam</td>\n      <td>Oxic Ustropept</td>\n      <td>Grass</td>\n      <td>92,048.48</td>\n      <td>Eutric cambisol</td>\n      <td>9.96</td>\n      <td>Sugarcane,Cassava,Yam,Irish Potatoes,Cocoa,Rub...</td>\n      <td>Moderately, Generally Deep</td>\n    </tr>\n    <tr>\n      <th>3</th>\n      <td>Adamawa</td>\n      <td>683.6</td>\n      <td>27.48</td>\n      <td>35.973</td>\n      <td>11.306</td>\n      <td>NaN</td>\n      <td>Mayo-Belwa</td>\n      <td>OCP fertilizer</td>\n      <td>Nm</td>\n      <td>0-20 cm</td>\n      <td>...</td>\n      <td>Strogly acidic to Slightly Acidic</td>\n      <td>Moderately Suitable</td>\n      <td>Clay Loam</td>\n      <td>Oxic Ustropept</td>\n      <td>Grass</td>\n      <td>92,048.48</td>\n      <td>Eutric cambisol</td>\n      <td>9.96</td>\n      <td>Sugarcane,Cassava,Yam,Irish Potatoes,Cocoa,Rub...</td>\n      <td>Moderately, Generally Deep</td>\n    </tr>\n    <tr>\n      <th>4</th>\n      <td>Adamawa</td>\n      <td>683.6</td>\n      <td>27.48</td>\n      <td>35.973</td>\n      <td>11.306</td>\n      <td>NaN</td>\n      <td>Mayo-Belwa</td>\n      <td>OCP fertilizer</td>\n      <td>Nm</td>\n      <td>0-20 cm</td>\n      <td>...</td>\n      <td>Strogly acidic to Slightly Acidic</td>\n      <td>Moderately Suitable</td>\n      <td>Clay Loam</td>\n      <td>Oxic Ustropept</td>\n      <td>Grass</td>\n      <td>92,048.48</td>\n      <td>Eutric cambisol</td>\n      <td>9.96</td>\n      <td>Sugarcane,Cassava,Yam,Irish Potatoes,Cocoa,Rub...</td>\n      <td>Moderately, Generally Deep</td>\n    </tr>\n  </tbody>\n</table>\n<p>5 rows × 40 columns</p>\n</div>"
     },
     "execution_count": 21,
     "metadata": {},
     "output_type": "execute_result"
    }
   ],
   "source": [
    "final_df = pd.merge(state_mean_df, soil_df, on='state')\n",
    "final_df.head()"
   ]
  },
  {
   "cell_type": "code",
   "execution_count": 22,
   "metadata": {
    "ExecuteTime": {
     "end_time": "2023-05-23T13:06:40.445401175Z",
     "start_time": "2023-05-23T13:06:38.914677688Z"
    }
   },
   "outputs": [
    {
     "data": {
      "text/plain": "(3211, 40)"
     },
     "execution_count": 22,
     "metadata": {},
     "output_type": "execute_result"
    }
   ],
   "source": [
    "final_df.shape"
   ]
  },
  {
   "cell_type": "code",
   "execution_count": 23,
   "metadata": {
    "ExecuteTime": {
     "end_time": "2023-05-23T13:06:40.446431896Z",
     "start_time": "2023-05-23T13:06:38.935294454Z"
    }
   },
   "outputs": [
    {
     "data": {
      "text/plain": "     state  rainfall  temperature  mean_humidity  mean_rainfall city   \n0  Adamawa     683.6        27.48         35.973         11.306  NaN  \\\n1  Adamawa     683.6        27.48         35.973         11.306  NaN   \n2  Adamawa     683.6        27.48         35.973         11.306  NaN   \n3  Adamawa     683.6        27.48         35.973         11.306  NaN   \n4  Adamawa     683.6        27.48         35.973         11.306  NaN   \n\n       county         project Farm     Depth  ...   \n0  Mayo-Belwa  OCP fertilizer   Nm  20-40 cm  ...  \\\n1  Mayo-Belwa  OCP fertilizer   Nm  20-40 cm  ...   \n2  Mayo-Belwa  OCP fertilizer   Nm  20-40 cm  ...   \n3  Mayo-Belwa  OCP fertilizer   Nm  20-40 cm  ...   \n4  Mayo-Belwa  OCP fertilizer   Nm  20-40 cm  ...   \n\n                          PH_DESCRIP           SUITABILIT  SOIL_TEXTU   \n0  Strogly acidic to Slightly Acidic  Moderately Suitable   Clay Loam  \\\n1  Strogly acidic to Slightly Acidic  Moderately Suitable   Clay Loam   \n2  Strogly acidic to Slightly Acidic  Moderately Suitable   Clay Loam   \n3  Strogly acidic to Slightly Acidic  Moderately Suitable   Clay Loam   \n4  Strogly acidic to Slightly Acidic  Moderately Suitable   Clay Loam   \n\n       SOIL_CLASS  VEGETATION  DISTRIBUTI       SOIL_CLA_1  PERCENTAGE   \n0  Oxic Ustropept       Grass   92,048.48  Eutric cambisol        9.96  \\\n1  Oxic Ustropept       Grass   92,048.48  Eutric cambisol        9.96   \n2  Oxic Ustropept       Grass   92,048.48  Eutric cambisol        9.96   \n3  Oxic Ustropept       Grass   92,048.48  Eutric cambisol        9.96   \n4  Oxic Ustropept       Grass   92,048.48  Eutric cambisol        9.96   \n\n       MAJOR_CROP                     Depth_2  \n0       Sugarcane  Moderately, Generally Deep  \n1         Cassava  Moderately, Generally Deep  \n2             Yam  Moderately, Generally Deep  \n3  Irish Potatoes  Moderately, Generally Deep  \n4           Cocoa  Moderately, Generally Deep  \n\n[5 rows x 40 columns]",
      "text/html": "<div>\n<style scoped>\n    .dataframe tbody tr th:only-of-type {\n        vertical-align: middle;\n    }\n\n    .dataframe tbody tr th {\n        vertical-align: top;\n    }\n\n    .dataframe thead th {\n        text-align: right;\n    }\n</style>\n<table border=\"1\" class=\"dataframe\">\n  <thead>\n    <tr style=\"text-align: right;\">\n      <th></th>\n      <th>state</th>\n      <th>rainfall</th>\n      <th>temperature</th>\n      <th>mean_humidity</th>\n      <th>mean_rainfall</th>\n      <th>city</th>\n      <th>county</th>\n      <th>project</th>\n      <th>Farm</th>\n      <th>Depth</th>\n      <th>...</th>\n      <th>PH_DESCRIP</th>\n      <th>SUITABILIT</th>\n      <th>SOIL_TEXTU</th>\n      <th>SOIL_CLASS</th>\n      <th>VEGETATION</th>\n      <th>DISTRIBUTI</th>\n      <th>SOIL_CLA_1</th>\n      <th>PERCENTAGE</th>\n      <th>MAJOR_CROP</th>\n      <th>Depth_2</th>\n    </tr>\n  </thead>\n  <tbody>\n    <tr>\n      <th>0</th>\n      <td>Adamawa</td>\n      <td>683.6</td>\n      <td>27.48</td>\n      <td>35.973</td>\n      <td>11.306</td>\n      <td>NaN</td>\n      <td>Mayo-Belwa</td>\n      <td>OCP fertilizer</td>\n      <td>Nm</td>\n      <td>20-40 cm</td>\n      <td>...</td>\n      <td>Strogly acidic to Slightly Acidic</td>\n      <td>Moderately Suitable</td>\n      <td>Clay Loam</td>\n      <td>Oxic Ustropept</td>\n      <td>Grass</td>\n      <td>92,048.48</td>\n      <td>Eutric cambisol</td>\n      <td>9.96</td>\n      <td>Sugarcane</td>\n      <td>Moderately, Generally Deep</td>\n    </tr>\n    <tr>\n      <th>1</th>\n      <td>Adamawa</td>\n      <td>683.6</td>\n      <td>27.48</td>\n      <td>35.973</td>\n      <td>11.306</td>\n      <td>NaN</td>\n      <td>Mayo-Belwa</td>\n      <td>OCP fertilizer</td>\n      <td>Nm</td>\n      <td>20-40 cm</td>\n      <td>...</td>\n      <td>Strogly acidic to Slightly Acidic</td>\n      <td>Moderately Suitable</td>\n      <td>Clay Loam</td>\n      <td>Oxic Ustropept</td>\n      <td>Grass</td>\n      <td>92,048.48</td>\n      <td>Eutric cambisol</td>\n      <td>9.96</td>\n      <td>Cassava</td>\n      <td>Moderately, Generally Deep</td>\n    </tr>\n    <tr>\n      <th>2</th>\n      <td>Adamawa</td>\n      <td>683.6</td>\n      <td>27.48</td>\n      <td>35.973</td>\n      <td>11.306</td>\n      <td>NaN</td>\n      <td>Mayo-Belwa</td>\n      <td>OCP fertilizer</td>\n      <td>Nm</td>\n      <td>20-40 cm</td>\n      <td>...</td>\n      <td>Strogly acidic to Slightly Acidic</td>\n      <td>Moderately Suitable</td>\n      <td>Clay Loam</td>\n      <td>Oxic Ustropept</td>\n      <td>Grass</td>\n      <td>92,048.48</td>\n      <td>Eutric cambisol</td>\n      <td>9.96</td>\n      <td>Yam</td>\n      <td>Moderately, Generally Deep</td>\n    </tr>\n    <tr>\n      <th>3</th>\n      <td>Adamawa</td>\n      <td>683.6</td>\n      <td>27.48</td>\n      <td>35.973</td>\n      <td>11.306</td>\n      <td>NaN</td>\n      <td>Mayo-Belwa</td>\n      <td>OCP fertilizer</td>\n      <td>Nm</td>\n      <td>20-40 cm</td>\n      <td>...</td>\n      <td>Strogly acidic to Slightly Acidic</td>\n      <td>Moderately Suitable</td>\n      <td>Clay Loam</td>\n      <td>Oxic Ustropept</td>\n      <td>Grass</td>\n      <td>92,048.48</td>\n      <td>Eutric cambisol</td>\n      <td>9.96</td>\n      <td>Irish Potatoes</td>\n      <td>Moderately, Generally Deep</td>\n    </tr>\n    <tr>\n      <th>4</th>\n      <td>Adamawa</td>\n      <td>683.6</td>\n      <td>27.48</td>\n      <td>35.973</td>\n      <td>11.306</td>\n      <td>NaN</td>\n      <td>Mayo-Belwa</td>\n      <td>OCP fertilizer</td>\n      <td>Nm</td>\n      <td>20-40 cm</td>\n      <td>...</td>\n      <td>Strogly acidic to Slightly Acidic</td>\n      <td>Moderately Suitable</td>\n      <td>Clay Loam</td>\n      <td>Oxic Ustropept</td>\n      <td>Grass</td>\n      <td>92,048.48</td>\n      <td>Eutric cambisol</td>\n      <td>9.96</td>\n      <td>Cocoa</td>\n      <td>Moderately, Generally Deep</td>\n    </tr>\n  </tbody>\n</table>\n<p>5 rows × 40 columns</p>\n</div>"
     },
     "execution_count": 23,
     "metadata": {},
     "output_type": "execute_result"
    }
   ],
   "source": [
    "crop_list = final_df['MAJOR_CROP'].str.split(',')\n",
    "final_df.MAJOR_CROP = crop_list\n",
    "final_df = final_df.explode('MAJOR_CROP').reset_index(drop=True)\n",
    "final_df.head()"
   ]
  },
  {
   "cell_type": "code",
   "execution_count": 24,
   "metadata": {
    "ExecuteTime": {
     "end_time": "2023-05-23T13:06:40.450414529Z",
     "start_time": "2023-05-23T13:06:39.014885249Z"
    }
   },
   "outputs": [
    {
     "data": {
      "text/plain": "(24813, 40)"
     },
     "execution_count": 24,
     "metadata": {},
     "output_type": "execute_result"
    }
   ],
   "source": [
    "final_df.shape"
   ]
  },
  {
   "cell_type": "code",
   "execution_count": 25,
   "metadata": {
    "ExecuteTime": {
     "end_time": "2023-05-23T13:06:40.472007350Z",
     "start_time": "2023-05-23T13:06:39.032427722Z"
    }
   },
   "outputs": [
    {
     "data": {
      "text/plain": "         state  rainfall  temperature  mean_humidity  mean_rainfall city   \n0      Adamawa     683.6        27.48         35.973         11.306  NaN  \\\n1      Adamawa     683.6        27.48         35.973         11.306  NaN   \n2      Adamawa     683.6        27.48         35.973         11.306  NaN   \n3      Adamawa     683.6        27.48         35.973         11.306  NaN   \n4      Adamawa     683.6        27.48         35.973         11.306  NaN   \n...        ...       ...          ...            ...            ...  ...   \n24808   Taraba    2018.6        23.94         52.289         13.312  NaN   \n24809   Taraba    2018.6        23.94         52.289         13.312  NaN   \n24810   Taraba    2018.6        23.94         52.289         13.312  NaN   \n24811   Taraba    2018.6        23.94         52.289         13.312  NaN   \n24812   Taraba    2018.6        23.94         52.289         13.312  NaN   \n\n           county         project Farm       pH  ...  DISTRIBUTI   \n0      Mayo-Belwa  OCP fertilizer   Nm  6.37594  ...   92,048.48  \\\n1      Mayo-Belwa  OCP fertilizer   Nm  6.37594  ...   92,048.48   \n2      Mayo-Belwa  OCP fertilizer   Nm  6.37594  ...   92,048.48   \n3      Mayo-Belwa  OCP fertilizer   Nm  6.37594  ...   92,048.48   \n4      Mayo-Belwa  OCP fertilizer   Nm  6.37594  ...   92,048.48   \n...           ...             ...  ...      ...  ...         ...   \n24808   Ardo-Kola  OCP fertilizer   Nm  6.11449  ...   92,048.48   \n24809   Ardo-Kola  OCP fertilizer   Nm  6.11449  ...   92,048.48   \n24810   Ardo-Kola  OCP fertilizer   Nm  6.11449  ...   92,048.48   \n24811   Ardo-Kola  OCP fertilizer   Nm  6.11449  ...   92,048.48   \n24812   Ardo-Kola  OCP fertilizer   Nm  6.11449  ...   92,048.48   \n\n            SOIL_CLA_1  PERCENTAGE      MAJOR_CROP   \n0      Eutric cambisol        9.96       Sugarcane  \\\n1      Eutric cambisol        9.96         Cassava   \n2      Eutric cambisol        9.96             Yam   \n3      Eutric cambisol        9.96  Irish Potatoes   \n4      Eutric cambisol        9.96           Cocoa   \n...                ...         ...             ...   \n24808  Dystric Nitosol        9.96       Groundnut   \n24809  Dystric Nitosol        9.96   MilletSorghum   \n24810  Dystric Nitosol        9.96          Cowpea   \n24811  Dystric Nitosol        9.96            Rice   \n24812  Dystric Nitosol        9.96         OilPalm   \n\n                          Depth_2  Depth1  Depth2  SOIL_PH1  SOIL_PH2  slope  \n0      Moderately, Generally Deep      20      40       5.5       6.3      2  \n1      Moderately, Generally Deep      20      40       5.5       6.3      2  \n2      Moderately, Generally Deep      20      40       5.5       6.3      2  \n3      Moderately, Generally Deep      20      40       5.5       6.3      2  \n4      Moderately, Generally Deep      20      40       5.5       6.3      2  \n...                           ...     ...     ...       ...       ...    ...  \n24808  Moderately, Generally Deep       0      20       5.5       6.3      2  \n24809  Moderately, Generally Deep       0      20       5.5       6.3      2  \n24810  Moderately, Generally Deep       0      20       5.5       6.3      2  \n24811  Moderately, Generally Deep       0      20       5.5       6.3      2  \n24812  Moderately, Generally Deep       0      20       5.5       6.3      2  \n\n[24813 rows x 41 columns]",
      "text/html": "<div>\n<style scoped>\n    .dataframe tbody tr th:only-of-type {\n        vertical-align: middle;\n    }\n\n    .dataframe tbody tr th {\n        vertical-align: top;\n    }\n\n    .dataframe thead th {\n        text-align: right;\n    }\n</style>\n<table border=\"1\" class=\"dataframe\">\n  <thead>\n    <tr style=\"text-align: right;\">\n      <th></th>\n      <th>state</th>\n      <th>rainfall</th>\n      <th>temperature</th>\n      <th>mean_humidity</th>\n      <th>mean_rainfall</th>\n      <th>city</th>\n      <th>county</th>\n      <th>project</th>\n      <th>Farm</th>\n      <th>pH</th>\n      <th>...</th>\n      <th>DISTRIBUTI</th>\n      <th>SOIL_CLA_1</th>\n      <th>PERCENTAGE</th>\n      <th>MAJOR_CROP</th>\n      <th>Depth_2</th>\n      <th>Depth1</th>\n      <th>Depth2</th>\n      <th>SOIL_PH1</th>\n      <th>SOIL_PH2</th>\n      <th>slope</th>\n    </tr>\n  </thead>\n  <tbody>\n    <tr>\n      <th>0</th>\n      <td>Adamawa</td>\n      <td>683.6</td>\n      <td>27.48</td>\n      <td>35.973</td>\n      <td>11.306</td>\n      <td>NaN</td>\n      <td>Mayo-Belwa</td>\n      <td>OCP fertilizer</td>\n      <td>Nm</td>\n      <td>6.37594</td>\n      <td>...</td>\n      <td>92,048.48</td>\n      <td>Eutric cambisol</td>\n      <td>9.96</td>\n      <td>Sugarcane</td>\n      <td>Moderately, Generally Deep</td>\n      <td>20</td>\n      <td>40</td>\n      <td>5.5</td>\n      <td>6.3</td>\n      <td>2</td>\n    </tr>\n    <tr>\n      <th>1</th>\n      <td>Adamawa</td>\n      <td>683.6</td>\n      <td>27.48</td>\n      <td>35.973</td>\n      <td>11.306</td>\n      <td>NaN</td>\n      <td>Mayo-Belwa</td>\n      <td>OCP fertilizer</td>\n      <td>Nm</td>\n      <td>6.37594</td>\n      <td>...</td>\n      <td>92,048.48</td>\n      <td>Eutric cambisol</td>\n      <td>9.96</td>\n      <td>Cassava</td>\n      <td>Moderately, Generally Deep</td>\n      <td>20</td>\n      <td>40</td>\n      <td>5.5</td>\n      <td>6.3</td>\n      <td>2</td>\n    </tr>\n    <tr>\n      <th>2</th>\n      <td>Adamawa</td>\n      <td>683.6</td>\n      <td>27.48</td>\n      <td>35.973</td>\n      <td>11.306</td>\n      <td>NaN</td>\n      <td>Mayo-Belwa</td>\n      <td>OCP fertilizer</td>\n      <td>Nm</td>\n      <td>6.37594</td>\n      <td>...</td>\n      <td>92,048.48</td>\n      <td>Eutric cambisol</td>\n      <td>9.96</td>\n      <td>Yam</td>\n      <td>Moderately, Generally Deep</td>\n      <td>20</td>\n      <td>40</td>\n      <td>5.5</td>\n      <td>6.3</td>\n      <td>2</td>\n    </tr>\n    <tr>\n      <th>3</th>\n      <td>Adamawa</td>\n      <td>683.6</td>\n      <td>27.48</td>\n      <td>35.973</td>\n      <td>11.306</td>\n      <td>NaN</td>\n      <td>Mayo-Belwa</td>\n      <td>OCP fertilizer</td>\n      <td>Nm</td>\n      <td>6.37594</td>\n      <td>...</td>\n      <td>92,048.48</td>\n      <td>Eutric cambisol</td>\n      <td>9.96</td>\n      <td>Irish Potatoes</td>\n      <td>Moderately, Generally Deep</td>\n      <td>20</td>\n      <td>40</td>\n      <td>5.5</td>\n      <td>6.3</td>\n      <td>2</td>\n    </tr>\n    <tr>\n      <th>4</th>\n      <td>Adamawa</td>\n      <td>683.6</td>\n      <td>27.48</td>\n      <td>35.973</td>\n      <td>11.306</td>\n      <td>NaN</td>\n      <td>Mayo-Belwa</td>\n      <td>OCP fertilizer</td>\n      <td>Nm</td>\n      <td>6.37594</td>\n      <td>...</td>\n      <td>92,048.48</td>\n      <td>Eutric cambisol</td>\n      <td>9.96</td>\n      <td>Cocoa</td>\n      <td>Moderately, Generally Deep</td>\n      <td>20</td>\n      <td>40</td>\n      <td>5.5</td>\n      <td>6.3</td>\n      <td>2</td>\n    </tr>\n    <tr>\n      <th>...</th>\n      <td>...</td>\n      <td>...</td>\n      <td>...</td>\n      <td>...</td>\n      <td>...</td>\n      <td>...</td>\n      <td>...</td>\n      <td>...</td>\n      <td>...</td>\n      <td>...</td>\n      <td>...</td>\n      <td>...</td>\n      <td>...</td>\n      <td>...</td>\n      <td>...</td>\n      <td>...</td>\n      <td>...</td>\n      <td>...</td>\n      <td>...</td>\n      <td>...</td>\n      <td>...</td>\n    </tr>\n    <tr>\n      <th>24808</th>\n      <td>Taraba</td>\n      <td>2018.6</td>\n      <td>23.94</td>\n      <td>52.289</td>\n      <td>13.312</td>\n      <td>NaN</td>\n      <td>Ardo-Kola</td>\n      <td>OCP fertilizer</td>\n      <td>Nm</td>\n      <td>6.11449</td>\n      <td>...</td>\n      <td>92,048.48</td>\n      <td>Dystric Nitosol</td>\n      <td>9.96</td>\n      <td>Groundnut</td>\n      <td>Moderately, Generally Deep</td>\n      <td>0</td>\n      <td>20</td>\n      <td>5.5</td>\n      <td>6.3</td>\n      <td>2</td>\n    </tr>\n    <tr>\n      <th>24809</th>\n      <td>Taraba</td>\n      <td>2018.6</td>\n      <td>23.94</td>\n      <td>52.289</td>\n      <td>13.312</td>\n      <td>NaN</td>\n      <td>Ardo-Kola</td>\n      <td>OCP fertilizer</td>\n      <td>Nm</td>\n      <td>6.11449</td>\n      <td>...</td>\n      <td>92,048.48</td>\n      <td>Dystric Nitosol</td>\n      <td>9.96</td>\n      <td>MilletSorghum</td>\n      <td>Moderately, Generally Deep</td>\n      <td>0</td>\n      <td>20</td>\n      <td>5.5</td>\n      <td>6.3</td>\n      <td>2</td>\n    </tr>\n    <tr>\n      <th>24810</th>\n      <td>Taraba</td>\n      <td>2018.6</td>\n      <td>23.94</td>\n      <td>52.289</td>\n      <td>13.312</td>\n      <td>NaN</td>\n      <td>Ardo-Kola</td>\n      <td>OCP fertilizer</td>\n      <td>Nm</td>\n      <td>6.11449</td>\n      <td>...</td>\n      <td>92,048.48</td>\n      <td>Dystric Nitosol</td>\n      <td>9.96</td>\n      <td>Cowpea</td>\n      <td>Moderately, Generally Deep</td>\n      <td>0</td>\n      <td>20</td>\n      <td>5.5</td>\n      <td>6.3</td>\n      <td>2</td>\n    </tr>\n    <tr>\n      <th>24811</th>\n      <td>Taraba</td>\n      <td>2018.6</td>\n      <td>23.94</td>\n      <td>52.289</td>\n      <td>13.312</td>\n      <td>NaN</td>\n      <td>Ardo-Kola</td>\n      <td>OCP fertilizer</td>\n      <td>Nm</td>\n      <td>6.11449</td>\n      <td>...</td>\n      <td>92,048.48</td>\n      <td>Dystric Nitosol</td>\n      <td>9.96</td>\n      <td>Rice</td>\n      <td>Moderately, Generally Deep</td>\n      <td>0</td>\n      <td>20</td>\n      <td>5.5</td>\n      <td>6.3</td>\n      <td>2</td>\n    </tr>\n    <tr>\n      <th>24812</th>\n      <td>Taraba</td>\n      <td>2018.6</td>\n      <td>23.94</td>\n      <td>52.289</td>\n      <td>13.312</td>\n      <td>NaN</td>\n      <td>Ardo-Kola</td>\n      <td>OCP fertilizer</td>\n      <td>Nm</td>\n      <td>6.11449</td>\n      <td>...</td>\n      <td>92,048.48</td>\n      <td>Dystric Nitosol</td>\n      <td>9.96</td>\n      <td>OilPalm</td>\n      <td>Moderately, Generally Deep</td>\n      <td>0</td>\n      <td>20</td>\n      <td>5.5</td>\n      <td>6.3</td>\n      <td>2</td>\n    </tr>\n  </tbody>\n</table>\n<p>24813 rows × 41 columns</p>\n</div>"
     },
     "execution_count": 25,
     "metadata": {},
     "output_type": "execute_result"
    }
   ],
   "source": [
    "final_df['Depth'] = final_df['Depth'].str.replace('cm', '', regex=True)\n",
    "final_df.Depth = final_df.Depth.str.replace(\" \", '')\n",
    "final_df.SOIL_PH = final_df.SOIL_PH.str.replace(\" \", '')\n",
    "final_df.SLOPE = final_df.SLOPE.str.replace(\" \", '')\n",
    "final_df['SLOPE'] = final_df['SLOPE'].str.replace('%', '', regex=True)\n",
    "final_df[['Depth1', 'Depth2']] = final_df['Depth'].str.split('-|–', expand=True)\n",
    "final_df[['SOIL_PH1', 'SOIL_PH2']] = final_df['SOIL_PH'].str.split('-', expand=True)\n",
    "final_df[['col', 'slope']] = final_df['SLOPE'].str.split('-', expand=True)\n",
    "\n",
    "final_df = final_df.drop(columns=['Depth', 'SOIL_PH', 'Depthcode', 'col', 'SLOPE'])\n",
    "final_df"
   ]
  },
  {
   "cell_type": "code",
   "execution_count": 26,
   "metadata": {
    "ExecuteTime": {
     "end_time": "2023-05-23T13:06:40.506765054Z",
     "start_time": "2023-05-23T13:06:39.462228285Z"
    }
   },
   "outputs": [],
   "source": [
    "final_df.Depth1 = final_df.Depth1.astype(float)\n",
    "final_df.Depth2 = final_df.Depth2.astype(float)\n",
    "final_df.SOIL_PH1 = final_df.SOIL_PH1.astype(float)\n",
    "final_df.SOIL_PH2 = final_df['SOIL_PH2'].str.extract(r'(\\d+.\\d+)').astype('float')\n",
    "final_df.slope = final_df.slope.astype(float)"
   ]
  },
  {
   "cell_type": "code",
   "execution_count": 27,
   "metadata": {
    "ExecuteTime": {
     "end_time": "2023-05-23T13:06:40.535278756Z",
     "start_time": "2023-05-23T13:06:39.555929410Z"
    }
   },
   "outputs": [],
   "source": [
    "final_df['avg_depth'] = final_df[['Depth1', 'Depth2']].mean(axis=1)\n",
    "final_df['avg_soil_ph'] = final_df[['SOIL_PH1', 'SOIL_PH1']].mean(axis=1)\n",
    "\n",
    "final_df = final_df.drop(columns=['Depth1', 'Depth2', 'SOIL_PH1', 'SOIL_PH2', 'city', 'project', 'ID', \n",
    "                                'project', 'MAPPING_UN', 'GEOLOGY', 'ECOLOGICAL', 'DRAINAGE', 'PH_DESCRIP', \n",
    "                                'SUITABILIT', 'SOIL_TEXTU', 'DISTRIBUTI', 'PERCENTAGE'])"
   ]
  },
  {
   "cell_type": "code",
   "execution_count": 28,
   "metadata": {
    "scrolled": false,
    "ExecuteTime": {
     "end_time": "2023-05-23T13:06:40.578596861Z",
     "start_time": "2023-05-23T13:06:39.642461290Z"
    }
   },
   "outputs": [
    {
     "data": {
      "text/plain": "         state  rainfall  temperature  mean_humidity  mean_rainfall   \n0      Adamawa     683.6        27.48         35.973         11.306  \\\n1      Adamawa     683.6        27.48         35.973         11.306   \n2      Adamawa     683.6        27.48         35.973         11.306   \n3      Adamawa     683.6        27.48         35.973         11.306   \n4      Adamawa     683.6        27.48         35.973         11.306   \n...        ...       ...          ...            ...            ...   \n24808   Taraba    2018.6        23.94         52.289         13.312   \n24809   Taraba    2018.6        23.94         52.289         13.312   \n24810   Taraba    2018.6        23.94         52.289         13.312   \n24811   Taraba    2018.6        23.94         52.289         13.312   \n24812   Taraba    2018.6        23.94         52.289         13.312   \n\n           county Farm       pH         N        OC  ...       Mn        Fe   \n0      Mayo-Belwa   Nm  6.37594  0.044609  0.609208  ...  89.2675  102.2200  \\\n1      Mayo-Belwa   Nm  6.37594  0.044609  0.609208  ...  89.2675  102.2200   \n2      Mayo-Belwa   Nm  6.37594  0.044609  0.609208  ...  89.2675  102.2200   \n3      Mayo-Belwa   Nm  6.37594  0.044609  0.609208  ...  89.2675  102.2200   \n4      Mayo-Belwa   Nm  6.37594  0.044609  0.609208  ...  89.2675  102.2200   \n...           ...  ...      ...       ...       ...  ...      ...       ...   \n24808   Ardo-Kola   Nm  6.11449  0.029150  0.508449  ...  35.7464   50.4691   \n24809   Ardo-Kola   Nm  6.11449  0.029150  0.508449  ...  35.7464   50.4691   \n24810   Ardo-Kola   Nm  6.11449  0.029150  0.508449  ...  35.7464   50.4691   \n24811   Ardo-Kola   Nm  6.11449  0.029150  0.508449  ...  35.7464   50.4691   \n24812   Ardo-Kola   Nm  6.11449  0.029150  0.508449  ...  35.7464   50.4691   \n\n             SOIL_CLASS             VEGETATION       SOIL_CLA_1   \n0        Oxic Ustropept                  Grass  Eutric cambisol  \\\n1        Oxic Ustropept                  Grass  Eutric cambisol   \n2        Oxic Ustropept                  Grass  Eutric cambisol   \n3        Oxic Ustropept                  Grass  Eutric cambisol   \n4        Oxic Ustropept                  Grass  Eutric cambisol   \n...                 ...                    ...              ...   \n24808  Typic Paleustult  Sorghum and Groundnut  Dystric Nitosol   \n24809  Typic Paleustult  Sorghum and Groundnut  Dystric Nitosol   \n24810  Typic Paleustult  Sorghum and Groundnut  Dystric Nitosol   \n24811  Typic Paleustult  Sorghum and Groundnut  Dystric Nitosol   \n24812  Typic Paleustult  Sorghum and Groundnut  Dystric Nitosol   \n\n           MAJOR_CROP                     Depth_2  slope  avg_depth   \n0           Sugarcane  Moderately, Generally Deep    2.0       30.0  \\\n1             Cassava  Moderately, Generally Deep    2.0       30.0   \n2                 Yam  Moderately, Generally Deep    2.0       30.0   \n3      Irish Potatoes  Moderately, Generally Deep    2.0       30.0   \n4               Cocoa  Moderately, Generally Deep    2.0       30.0   \n...               ...                         ...    ...        ...   \n24808       Groundnut  Moderately, Generally Deep    2.0       10.0   \n24809   MilletSorghum  Moderately, Generally Deep    2.0       10.0   \n24810          Cowpea  Moderately, Generally Deep    2.0       10.0   \n24811            Rice  Moderately, Generally Deep    2.0       10.0   \n24812         OilPalm  Moderately, Generally Deep    2.0       10.0   \n\n      avg_soil_ph  \n0             5.5  \n1             5.5  \n2             5.5  \n3             5.5  \n4             5.5  \n...           ...  \n24808         5.5  \n24809         5.5  \n24810         5.5  \n24811         5.5  \n24812         5.5  \n\n[24813 rows x 27 columns]",
      "text/html": "<div>\n<style scoped>\n    .dataframe tbody tr th:only-of-type {\n        vertical-align: middle;\n    }\n\n    .dataframe tbody tr th {\n        vertical-align: top;\n    }\n\n    .dataframe thead th {\n        text-align: right;\n    }\n</style>\n<table border=\"1\" class=\"dataframe\">\n  <thead>\n    <tr style=\"text-align: right;\">\n      <th></th>\n      <th>state</th>\n      <th>rainfall</th>\n      <th>temperature</th>\n      <th>mean_humidity</th>\n      <th>mean_rainfall</th>\n      <th>county</th>\n      <th>Farm</th>\n      <th>pH</th>\n      <th>N</th>\n      <th>OC</th>\n      <th>...</th>\n      <th>Mn</th>\n      <th>Fe</th>\n      <th>SOIL_CLASS</th>\n      <th>VEGETATION</th>\n      <th>SOIL_CLA_1</th>\n      <th>MAJOR_CROP</th>\n      <th>Depth_2</th>\n      <th>slope</th>\n      <th>avg_depth</th>\n      <th>avg_soil_ph</th>\n    </tr>\n  </thead>\n  <tbody>\n    <tr>\n      <th>0</th>\n      <td>Adamawa</td>\n      <td>683.6</td>\n      <td>27.48</td>\n      <td>35.973</td>\n      <td>11.306</td>\n      <td>Mayo-Belwa</td>\n      <td>Nm</td>\n      <td>6.37594</td>\n      <td>0.044609</td>\n      <td>0.609208</td>\n      <td>...</td>\n      <td>89.2675</td>\n      <td>102.2200</td>\n      <td>Oxic Ustropept</td>\n      <td>Grass</td>\n      <td>Eutric cambisol</td>\n      <td>Sugarcane</td>\n      <td>Moderately, Generally Deep</td>\n      <td>2.0</td>\n      <td>30.0</td>\n      <td>5.5</td>\n    </tr>\n    <tr>\n      <th>1</th>\n      <td>Adamawa</td>\n      <td>683.6</td>\n      <td>27.48</td>\n      <td>35.973</td>\n      <td>11.306</td>\n      <td>Mayo-Belwa</td>\n      <td>Nm</td>\n      <td>6.37594</td>\n      <td>0.044609</td>\n      <td>0.609208</td>\n      <td>...</td>\n      <td>89.2675</td>\n      <td>102.2200</td>\n      <td>Oxic Ustropept</td>\n      <td>Grass</td>\n      <td>Eutric cambisol</td>\n      <td>Cassava</td>\n      <td>Moderately, Generally Deep</td>\n      <td>2.0</td>\n      <td>30.0</td>\n      <td>5.5</td>\n    </tr>\n    <tr>\n      <th>2</th>\n      <td>Adamawa</td>\n      <td>683.6</td>\n      <td>27.48</td>\n      <td>35.973</td>\n      <td>11.306</td>\n      <td>Mayo-Belwa</td>\n      <td>Nm</td>\n      <td>6.37594</td>\n      <td>0.044609</td>\n      <td>0.609208</td>\n      <td>...</td>\n      <td>89.2675</td>\n      <td>102.2200</td>\n      <td>Oxic Ustropept</td>\n      <td>Grass</td>\n      <td>Eutric cambisol</td>\n      <td>Yam</td>\n      <td>Moderately, Generally Deep</td>\n      <td>2.0</td>\n      <td>30.0</td>\n      <td>5.5</td>\n    </tr>\n    <tr>\n      <th>3</th>\n      <td>Adamawa</td>\n      <td>683.6</td>\n      <td>27.48</td>\n      <td>35.973</td>\n      <td>11.306</td>\n      <td>Mayo-Belwa</td>\n      <td>Nm</td>\n      <td>6.37594</td>\n      <td>0.044609</td>\n      <td>0.609208</td>\n      <td>...</td>\n      <td>89.2675</td>\n      <td>102.2200</td>\n      <td>Oxic Ustropept</td>\n      <td>Grass</td>\n      <td>Eutric cambisol</td>\n      <td>Irish Potatoes</td>\n      <td>Moderately, Generally Deep</td>\n      <td>2.0</td>\n      <td>30.0</td>\n      <td>5.5</td>\n    </tr>\n    <tr>\n      <th>4</th>\n      <td>Adamawa</td>\n      <td>683.6</td>\n      <td>27.48</td>\n      <td>35.973</td>\n      <td>11.306</td>\n      <td>Mayo-Belwa</td>\n      <td>Nm</td>\n      <td>6.37594</td>\n      <td>0.044609</td>\n      <td>0.609208</td>\n      <td>...</td>\n      <td>89.2675</td>\n      <td>102.2200</td>\n      <td>Oxic Ustropept</td>\n      <td>Grass</td>\n      <td>Eutric cambisol</td>\n      <td>Cocoa</td>\n      <td>Moderately, Generally Deep</td>\n      <td>2.0</td>\n      <td>30.0</td>\n      <td>5.5</td>\n    </tr>\n    <tr>\n      <th>...</th>\n      <td>...</td>\n      <td>...</td>\n      <td>...</td>\n      <td>...</td>\n      <td>...</td>\n      <td>...</td>\n      <td>...</td>\n      <td>...</td>\n      <td>...</td>\n      <td>...</td>\n      <td>...</td>\n      <td>...</td>\n      <td>...</td>\n      <td>...</td>\n      <td>...</td>\n      <td>...</td>\n      <td>...</td>\n      <td>...</td>\n      <td>...</td>\n      <td>...</td>\n      <td>...</td>\n    </tr>\n    <tr>\n      <th>24808</th>\n      <td>Taraba</td>\n      <td>2018.6</td>\n      <td>23.94</td>\n      <td>52.289</td>\n      <td>13.312</td>\n      <td>Ardo-Kola</td>\n      <td>Nm</td>\n      <td>6.11449</td>\n      <td>0.029150</td>\n      <td>0.508449</td>\n      <td>...</td>\n      <td>35.7464</td>\n      <td>50.4691</td>\n      <td>Typic Paleustult</td>\n      <td>Sorghum and Groundnut</td>\n      <td>Dystric Nitosol</td>\n      <td>Groundnut</td>\n      <td>Moderately, Generally Deep</td>\n      <td>2.0</td>\n      <td>10.0</td>\n      <td>5.5</td>\n    </tr>\n    <tr>\n      <th>24809</th>\n      <td>Taraba</td>\n      <td>2018.6</td>\n      <td>23.94</td>\n      <td>52.289</td>\n      <td>13.312</td>\n      <td>Ardo-Kola</td>\n      <td>Nm</td>\n      <td>6.11449</td>\n      <td>0.029150</td>\n      <td>0.508449</td>\n      <td>...</td>\n      <td>35.7464</td>\n      <td>50.4691</td>\n      <td>Typic Paleustult</td>\n      <td>Sorghum and Groundnut</td>\n      <td>Dystric Nitosol</td>\n      <td>MilletSorghum</td>\n      <td>Moderately, Generally Deep</td>\n      <td>2.0</td>\n      <td>10.0</td>\n      <td>5.5</td>\n    </tr>\n    <tr>\n      <th>24810</th>\n      <td>Taraba</td>\n      <td>2018.6</td>\n      <td>23.94</td>\n      <td>52.289</td>\n      <td>13.312</td>\n      <td>Ardo-Kola</td>\n      <td>Nm</td>\n      <td>6.11449</td>\n      <td>0.029150</td>\n      <td>0.508449</td>\n      <td>...</td>\n      <td>35.7464</td>\n      <td>50.4691</td>\n      <td>Typic Paleustult</td>\n      <td>Sorghum and Groundnut</td>\n      <td>Dystric Nitosol</td>\n      <td>Cowpea</td>\n      <td>Moderately, Generally Deep</td>\n      <td>2.0</td>\n      <td>10.0</td>\n      <td>5.5</td>\n    </tr>\n    <tr>\n      <th>24811</th>\n      <td>Taraba</td>\n      <td>2018.6</td>\n      <td>23.94</td>\n      <td>52.289</td>\n      <td>13.312</td>\n      <td>Ardo-Kola</td>\n      <td>Nm</td>\n      <td>6.11449</td>\n      <td>0.029150</td>\n      <td>0.508449</td>\n      <td>...</td>\n      <td>35.7464</td>\n      <td>50.4691</td>\n      <td>Typic Paleustult</td>\n      <td>Sorghum and Groundnut</td>\n      <td>Dystric Nitosol</td>\n      <td>Rice</td>\n      <td>Moderately, Generally Deep</td>\n      <td>2.0</td>\n      <td>10.0</td>\n      <td>5.5</td>\n    </tr>\n    <tr>\n      <th>24812</th>\n      <td>Taraba</td>\n      <td>2018.6</td>\n      <td>23.94</td>\n      <td>52.289</td>\n      <td>13.312</td>\n      <td>Ardo-Kola</td>\n      <td>Nm</td>\n      <td>6.11449</td>\n      <td>0.029150</td>\n      <td>0.508449</td>\n      <td>...</td>\n      <td>35.7464</td>\n      <td>50.4691</td>\n      <td>Typic Paleustult</td>\n      <td>Sorghum and Groundnut</td>\n      <td>Dystric Nitosol</td>\n      <td>OilPalm</td>\n      <td>Moderately, Generally Deep</td>\n      <td>2.0</td>\n      <td>10.0</td>\n      <td>5.5</td>\n    </tr>\n  </tbody>\n</table>\n<p>24813 rows × 27 columns</p>\n</div>"
     },
     "execution_count": 28,
     "metadata": {},
     "output_type": "execute_result"
    }
   ],
   "source": [
    "final_df"
   ]
  },
  {
   "cell_type": "code",
   "execution_count": 29,
   "metadata": {
    "scrolled": false,
    "ExecuteTime": {
     "end_time": "2023-05-23T13:06:40.611625005Z",
     "start_time": "2023-05-23T13:06:39.695443485Z"
    }
   },
   "outputs": [
    {
     "data": {
      "text/plain": "MAJOR_CROP\nYam                       2707\nMaize                     2677\nSorghum                   2593\nCotton                    2243\nCassava                   2028\nGroundnut                 1847\nCocoa                     1157\nRice                      1022\nIrish Potatoes            1000\nCowpea                     936\nMillet                     891\n Millet                    878\nSugarcane                  375\n Rice                      352\nVegetables                 309\nCow Pea                    293\n  Banana                   293\nOilPalm                    265\nRubber                     254\nMilletSorghum              250\nPlantain                   249\nMillets                    246\nOil Palm                   234\nAcha                       233\nCass                       211\nBean                       207\nSugarCan                   207\nUpland rice                192\nCocoa yam                  182\nCocoayams.                 108\nG.nuts                      83\nBeans                       83\n Groundnut                  39\nTobacco and Vegetables      39\nG.Nuts                      37\n Cowpea                     20\nOil palm                    20\nMaize.Cocoa                 20\nCottom                      11\nBanana                      10\n Maize.                      9\nVegetable                    2\n Yam                         1\nName: count, dtype: int64"
     },
     "execution_count": 29,
     "metadata": {},
     "output_type": "execute_result"
    }
   ],
   "source": [
    "final_df.MAJOR_CROP.value_counts()"
   ]
  },
  {
   "cell_type": "code",
   "execution_count": 30,
   "metadata": {
    "ExecuteTime": {
     "end_time": "2023-05-23T13:06:40.625630851Z",
     "start_time": "2023-05-23T13:06:39.696010630Z"
    }
   },
   "outputs": [
    {
     "data": {
      "text/plain": "         state  rainfall  temperature  mean_humidity  mean_rainfall   \n1      Adamawa     683.6        27.48         35.973         11.306  \\\n2      Adamawa     683.6        27.48         35.973         11.306   \n3      Adamawa     683.6        27.48         35.973         11.306   \n4      Adamawa     683.6        27.48         35.973         11.306   \n6      Adamawa     683.6        27.48         35.973         11.306   \n...        ...       ...          ...            ...            ...   \n24805   Taraba    2018.6        23.94         52.289         13.312   \n24806   Taraba    2018.6        23.94         52.289         13.312   \n24808   Taraba    2018.6        23.94         52.289         13.312   \n24810   Taraba    2018.6        23.94         52.289         13.312   \n24811   Taraba    2018.6        23.94         52.289         13.312   \n\n           county Farm       pH         N        OC  ...       Mn        Fe   \n1      Mayo-Belwa   Nm  6.37594  0.044609  0.609208  ...  89.2675  102.2200  \\\n2      Mayo-Belwa   Nm  6.37594  0.044609  0.609208  ...  89.2675  102.2200   \n3      Mayo-Belwa   Nm  6.37594  0.044609  0.609208  ...  89.2675  102.2200   \n4      Mayo-Belwa   Nm  6.37594  0.044609  0.609208  ...  89.2675  102.2200   \n6      Mayo-Belwa   Nm  6.37594  0.044609  0.609208  ...  89.2675  102.2200   \n...           ...  ...      ...       ...       ...  ...      ...       ...   \n24805   Ardo-Kola   Nm  6.11449  0.029150  0.508449  ...  35.7464   50.4691   \n24806   Ardo-Kola   Nm  6.11449  0.029150  0.508449  ...  35.7464   50.4691   \n24808   Ardo-Kola   Nm  6.11449  0.029150  0.508449  ...  35.7464   50.4691   \n24810   Ardo-Kola   Nm  6.11449  0.029150  0.508449  ...  35.7464   50.4691   \n24811   Ardo-Kola   Nm  6.11449  0.029150  0.508449  ...  35.7464   50.4691   \n\n             SOIL_CLASS             VEGETATION       SOIL_CLA_1   \n1        Oxic Ustropept                  Grass  Eutric cambisol  \\\n2        Oxic Ustropept                  Grass  Eutric cambisol   \n3        Oxic Ustropept                  Grass  Eutric cambisol   \n4        Oxic Ustropept                  Grass  Eutric cambisol   \n6        Oxic Ustropept                  Grass  Eutric cambisol   \n...                 ...                    ...              ...   \n24805  Typic Paleustult  Sorghum and Groundnut  Dystric Nitosol   \n24806  Typic Paleustult  Sorghum and Groundnut  Dystric Nitosol   \n24808  Typic Paleustult  Sorghum and Groundnut  Dystric Nitosol   \n24810  Typic Paleustult  Sorghum and Groundnut  Dystric Nitosol   \n24811  Typic Paleustult  Sorghum and Groundnut  Dystric Nitosol   \n\n           MAJOR_CROP                     Depth_2  slope  avg_depth   \n1             Cassava  Moderately, Generally Deep    2.0       30.0  \\\n2                 Yam  Moderately, Generally Deep    2.0       30.0   \n3      Irish Potatoes  Moderately, Generally Deep    2.0       30.0   \n4               Cocoa  Moderately, Generally Deep    2.0       30.0   \n6           Groundnut  Moderately, Generally Deep    2.0       30.0   \n...               ...                         ...    ...        ...   \n24805  Irish Potatoes  Moderately, Generally Deep    2.0       10.0   \n24806           Cocoa  Moderately, Generally Deep    2.0       10.0   \n24808       Groundnut  Moderately, Generally Deep    2.0       10.0   \n24810          Cowpea  Moderately, Generally Deep    2.0       10.0   \n24811            Rice  Moderately, Generally Deep    2.0       10.0   \n\n      avg_soil_ph  \n1             5.5  \n2             5.5  \n3             5.5  \n4             5.5  \n6             5.5  \n...           ...  \n24805         5.5  \n24806         5.5  \n24808         5.5  \n24810         5.5  \n24811         5.5  \n\n[22008 rows x 27 columns]",
      "text/html": "<div>\n<style scoped>\n    .dataframe tbody tr th:only-of-type {\n        vertical-align: middle;\n    }\n\n    .dataframe tbody tr th {\n        vertical-align: top;\n    }\n\n    .dataframe thead th {\n        text-align: right;\n    }\n</style>\n<table border=\"1\" class=\"dataframe\">\n  <thead>\n    <tr style=\"text-align: right;\">\n      <th></th>\n      <th>state</th>\n      <th>rainfall</th>\n      <th>temperature</th>\n      <th>mean_humidity</th>\n      <th>mean_rainfall</th>\n      <th>county</th>\n      <th>Farm</th>\n      <th>pH</th>\n      <th>N</th>\n      <th>OC</th>\n      <th>...</th>\n      <th>Mn</th>\n      <th>Fe</th>\n      <th>SOIL_CLASS</th>\n      <th>VEGETATION</th>\n      <th>SOIL_CLA_1</th>\n      <th>MAJOR_CROP</th>\n      <th>Depth_2</th>\n      <th>slope</th>\n      <th>avg_depth</th>\n      <th>avg_soil_ph</th>\n    </tr>\n  </thead>\n  <tbody>\n    <tr>\n      <th>1</th>\n      <td>Adamawa</td>\n      <td>683.6</td>\n      <td>27.48</td>\n      <td>35.973</td>\n      <td>11.306</td>\n      <td>Mayo-Belwa</td>\n      <td>Nm</td>\n      <td>6.37594</td>\n      <td>0.044609</td>\n      <td>0.609208</td>\n      <td>...</td>\n      <td>89.2675</td>\n      <td>102.2200</td>\n      <td>Oxic Ustropept</td>\n      <td>Grass</td>\n      <td>Eutric cambisol</td>\n      <td>Cassava</td>\n      <td>Moderately, Generally Deep</td>\n      <td>2.0</td>\n      <td>30.0</td>\n      <td>5.5</td>\n    </tr>\n    <tr>\n      <th>2</th>\n      <td>Adamawa</td>\n      <td>683.6</td>\n      <td>27.48</td>\n      <td>35.973</td>\n      <td>11.306</td>\n      <td>Mayo-Belwa</td>\n      <td>Nm</td>\n      <td>6.37594</td>\n      <td>0.044609</td>\n      <td>0.609208</td>\n      <td>...</td>\n      <td>89.2675</td>\n      <td>102.2200</td>\n      <td>Oxic Ustropept</td>\n      <td>Grass</td>\n      <td>Eutric cambisol</td>\n      <td>Yam</td>\n      <td>Moderately, Generally Deep</td>\n      <td>2.0</td>\n      <td>30.0</td>\n      <td>5.5</td>\n    </tr>\n    <tr>\n      <th>3</th>\n      <td>Adamawa</td>\n      <td>683.6</td>\n      <td>27.48</td>\n      <td>35.973</td>\n      <td>11.306</td>\n      <td>Mayo-Belwa</td>\n      <td>Nm</td>\n      <td>6.37594</td>\n      <td>0.044609</td>\n      <td>0.609208</td>\n      <td>...</td>\n      <td>89.2675</td>\n      <td>102.2200</td>\n      <td>Oxic Ustropept</td>\n      <td>Grass</td>\n      <td>Eutric cambisol</td>\n      <td>Irish Potatoes</td>\n      <td>Moderately, Generally Deep</td>\n      <td>2.0</td>\n      <td>30.0</td>\n      <td>5.5</td>\n    </tr>\n    <tr>\n      <th>4</th>\n      <td>Adamawa</td>\n      <td>683.6</td>\n      <td>27.48</td>\n      <td>35.973</td>\n      <td>11.306</td>\n      <td>Mayo-Belwa</td>\n      <td>Nm</td>\n      <td>6.37594</td>\n      <td>0.044609</td>\n      <td>0.609208</td>\n      <td>...</td>\n      <td>89.2675</td>\n      <td>102.2200</td>\n      <td>Oxic Ustropept</td>\n      <td>Grass</td>\n      <td>Eutric cambisol</td>\n      <td>Cocoa</td>\n      <td>Moderately, Generally Deep</td>\n      <td>2.0</td>\n      <td>30.0</td>\n      <td>5.5</td>\n    </tr>\n    <tr>\n      <th>6</th>\n      <td>Adamawa</td>\n      <td>683.6</td>\n      <td>27.48</td>\n      <td>35.973</td>\n      <td>11.306</td>\n      <td>Mayo-Belwa</td>\n      <td>Nm</td>\n      <td>6.37594</td>\n      <td>0.044609</td>\n      <td>0.609208</td>\n      <td>...</td>\n      <td>89.2675</td>\n      <td>102.2200</td>\n      <td>Oxic Ustropept</td>\n      <td>Grass</td>\n      <td>Eutric cambisol</td>\n      <td>Groundnut</td>\n      <td>Moderately, Generally Deep</td>\n      <td>2.0</td>\n      <td>30.0</td>\n      <td>5.5</td>\n    </tr>\n    <tr>\n      <th>...</th>\n      <td>...</td>\n      <td>...</td>\n      <td>...</td>\n      <td>...</td>\n      <td>...</td>\n      <td>...</td>\n      <td>...</td>\n      <td>...</td>\n      <td>...</td>\n      <td>...</td>\n      <td>...</td>\n      <td>...</td>\n      <td>...</td>\n      <td>...</td>\n      <td>...</td>\n      <td>...</td>\n      <td>...</td>\n      <td>...</td>\n      <td>...</td>\n      <td>...</td>\n      <td>...</td>\n    </tr>\n    <tr>\n      <th>24805</th>\n      <td>Taraba</td>\n      <td>2018.6</td>\n      <td>23.94</td>\n      <td>52.289</td>\n      <td>13.312</td>\n      <td>Ardo-Kola</td>\n      <td>Nm</td>\n      <td>6.11449</td>\n      <td>0.029150</td>\n      <td>0.508449</td>\n      <td>...</td>\n      <td>35.7464</td>\n      <td>50.4691</td>\n      <td>Typic Paleustult</td>\n      <td>Sorghum and Groundnut</td>\n      <td>Dystric Nitosol</td>\n      <td>Irish Potatoes</td>\n      <td>Moderately, Generally Deep</td>\n      <td>2.0</td>\n      <td>10.0</td>\n      <td>5.5</td>\n    </tr>\n    <tr>\n      <th>24806</th>\n      <td>Taraba</td>\n      <td>2018.6</td>\n      <td>23.94</td>\n      <td>52.289</td>\n      <td>13.312</td>\n      <td>Ardo-Kola</td>\n      <td>Nm</td>\n      <td>6.11449</td>\n      <td>0.029150</td>\n      <td>0.508449</td>\n      <td>...</td>\n      <td>35.7464</td>\n      <td>50.4691</td>\n      <td>Typic Paleustult</td>\n      <td>Sorghum and Groundnut</td>\n      <td>Dystric Nitosol</td>\n      <td>Cocoa</td>\n      <td>Moderately, Generally Deep</td>\n      <td>2.0</td>\n      <td>10.0</td>\n      <td>5.5</td>\n    </tr>\n    <tr>\n      <th>24808</th>\n      <td>Taraba</td>\n      <td>2018.6</td>\n      <td>23.94</td>\n      <td>52.289</td>\n      <td>13.312</td>\n      <td>Ardo-Kola</td>\n      <td>Nm</td>\n      <td>6.11449</td>\n      <td>0.029150</td>\n      <td>0.508449</td>\n      <td>...</td>\n      <td>35.7464</td>\n      <td>50.4691</td>\n      <td>Typic Paleustult</td>\n      <td>Sorghum and Groundnut</td>\n      <td>Dystric Nitosol</td>\n      <td>Groundnut</td>\n      <td>Moderately, Generally Deep</td>\n      <td>2.0</td>\n      <td>10.0</td>\n      <td>5.5</td>\n    </tr>\n    <tr>\n      <th>24810</th>\n      <td>Taraba</td>\n      <td>2018.6</td>\n      <td>23.94</td>\n      <td>52.289</td>\n      <td>13.312</td>\n      <td>Ardo-Kola</td>\n      <td>Nm</td>\n      <td>6.11449</td>\n      <td>0.029150</td>\n      <td>0.508449</td>\n      <td>...</td>\n      <td>35.7464</td>\n      <td>50.4691</td>\n      <td>Typic Paleustult</td>\n      <td>Sorghum and Groundnut</td>\n      <td>Dystric Nitosol</td>\n      <td>Cowpea</td>\n      <td>Moderately, Generally Deep</td>\n      <td>2.0</td>\n      <td>10.0</td>\n      <td>5.5</td>\n    </tr>\n    <tr>\n      <th>24811</th>\n      <td>Taraba</td>\n      <td>2018.6</td>\n      <td>23.94</td>\n      <td>52.289</td>\n      <td>13.312</td>\n      <td>Ardo-Kola</td>\n      <td>Nm</td>\n      <td>6.11449</td>\n      <td>0.029150</td>\n      <td>0.508449</td>\n      <td>...</td>\n      <td>35.7464</td>\n      <td>50.4691</td>\n      <td>Typic Paleustult</td>\n      <td>Sorghum and Groundnut</td>\n      <td>Dystric Nitosol</td>\n      <td>Rice</td>\n      <td>Moderately, Generally Deep</td>\n      <td>2.0</td>\n      <td>10.0</td>\n      <td>5.5</td>\n    </tr>\n  </tbody>\n</table>\n<p>22008 rows × 27 columns</p>\n</div>"
     },
     "execution_count": 30,
     "metadata": {},
     "output_type": "execute_result"
    }
   ],
   "source": [
    "crop_df = final_df[final_df['MAJOR_CROP'].isin(['Yam', 'Maize', 'Sorghum', 'Cotton', 'Cassava', 'Groundnut',\n",
    "                                                'Cocoa', 'Rice', 'Irish Potatoes', 'Cowpea', 'Millet',\n",
    "                                                ' Millet', ' Rice', 'Cow Pea', 'Vegetables', 'Bean', 'Beans',\n",
    "                                                'G.nuts', 'Upland rice', 'Cocoa yam', ' Groundnut', ' Yam',\n",
    "                                                ' Maize', ' Cowpea', 'Maize.Cocoa', 'Vegetable', 'Millets'])]\n",
    "crop_df"
   ]
  },
  {
   "cell_type": "code",
   "execution_count": 31,
   "metadata": {
    "ExecuteTime": {
     "end_time": "2023-05-23T13:06:40.930612887Z",
     "start_time": "2023-05-23T13:06:39.760737906Z"
    }
   },
   "outputs": [],
   "source": [
    "# y = crop_df['MAJOR_CROP']\n",
    "# X = crop_df.drop(columns=['MAJOR_CROP'], axis=1)"
   ]
  },
  {
   "cell_type": "code",
   "execution_count": 32,
   "metadata": {
    "scrolled": true,
    "ExecuteTime": {
     "end_time": "2023-05-23T13:06:40.952721432Z",
     "start_time": "2023-05-23T13:06:39.803376914Z"
    }
   },
   "outputs": [
    {
     "data": {
      "text/plain": "(22008, 27)"
     },
     "execution_count": 32,
     "metadata": {},
     "output_type": "execute_result"
    }
   ],
   "source": [
    "crop_df.shape"
   ]
  },
  {
   "cell_type": "code",
   "execution_count": 33,
   "metadata": {
    "ExecuteTime": {
     "end_time": "2023-05-23T13:06:41.076946335Z",
     "start_time": "2023-05-23T13:06:39.803752029Z"
    }
   },
   "outputs": [
    {
     "data": {
      "text/plain": "       index    state  rainfall  temperature  mean_humidity  mean_rainfall   \n0          1  Adamawa     683.6        27.48         35.973         11.306  \\\n1          2  Adamawa     683.6        27.48         35.973         11.306   \n2          3  Adamawa     683.6        27.48         35.973         11.306   \n3          4  Adamawa     683.6        27.48         35.973         11.306   \n4          6  Adamawa     683.6        27.48         35.973         11.306   \n...      ...      ...       ...          ...            ...            ...   \n22003  24805   Taraba    2018.6        23.94         52.289         13.312   \n22004  24806   Taraba    2018.6        23.94         52.289         13.312   \n22005  24808   Taraba    2018.6        23.94         52.289         13.312   \n22006  24810   Taraba    2018.6        23.94         52.289         13.312   \n22007  24811   Taraba    2018.6        23.94         52.289         13.312   \n\n      Farm       pH         N        OC  ...        Na       Zn        Cu   \n0       Nm  6.37594  0.044609  0.609208  ...  14.96620  1.28535  0.860957  \\\n1       Nm  6.37594  0.044609  0.609208  ...  14.96620  1.28535  0.860957   \n2       Nm  6.37594  0.044609  0.609208  ...  14.96620  1.28535  0.860957   \n3       Nm  6.37594  0.044609  0.609208  ...  14.96620  1.28535  0.860957   \n4       Nm  6.37594  0.044609  0.609208  ...  14.96620  1.28535  0.860957   \n...    ...      ...       ...       ...  ...       ...      ...       ...   \n22003   Nm  6.11449  0.029150  0.508449  ...   9.27022  0.82956  0.072998   \n22004   Nm  6.11449  0.029150  0.508449  ...   9.27022  0.82956  0.072998   \n22005   Nm  6.11449  0.029150  0.508449  ...   9.27022  0.82956  0.072998   \n22006   Nm  6.11449  0.029150  0.508449  ...   9.27022  0.82956  0.072998   \n22007   Nm  6.11449  0.029150  0.508449  ...   9.27022  0.82956  0.072998   \n\n            Mn        Fe             VEGETATION      MAJOR_CROP  slope   \n0      89.2675  102.2200                  Grass         Cassava    2.0  \\\n1      89.2675  102.2200                  Grass             Yam    2.0   \n2      89.2675  102.2200                  Grass  Irish Potatoes    2.0   \n3      89.2675  102.2200                  Grass           Cocoa    2.0   \n4      89.2675  102.2200                  Grass       Groundnut    2.0   \n...        ...       ...                    ...             ...    ...   \n22003  35.7464   50.4691  Sorghum and Groundnut  Irish Potatoes    2.0   \n22004  35.7464   50.4691  Sorghum and Groundnut           Cocoa    2.0   \n22005  35.7464   50.4691  Sorghum and Groundnut       Groundnut    2.0   \n22006  35.7464   50.4691  Sorghum and Groundnut          Cowpea    2.0   \n22007  35.7464   50.4691  Sorghum and Groundnut            Rice    2.0   \n\n       avg_depth avg_soil_ph  \n0           30.0         5.5  \n1           30.0         5.5  \n2           30.0         5.5  \n3           30.0         5.5  \n4           30.0         5.5  \n...          ...         ...  \n22003       10.0         5.5  \n22004       10.0         5.5  \n22005       10.0         5.5  \n22006       10.0         5.5  \n22007       10.0         5.5  \n\n[22008 rows x 24 columns]",
      "text/html": "<div>\n<style scoped>\n    .dataframe tbody tr th:only-of-type {\n        vertical-align: middle;\n    }\n\n    .dataframe tbody tr th {\n        vertical-align: top;\n    }\n\n    .dataframe thead th {\n        text-align: right;\n    }\n</style>\n<table border=\"1\" class=\"dataframe\">\n  <thead>\n    <tr style=\"text-align: right;\">\n      <th></th>\n      <th>index</th>\n      <th>state</th>\n      <th>rainfall</th>\n      <th>temperature</th>\n      <th>mean_humidity</th>\n      <th>mean_rainfall</th>\n      <th>Farm</th>\n      <th>pH</th>\n      <th>N</th>\n      <th>OC</th>\n      <th>...</th>\n      <th>Na</th>\n      <th>Zn</th>\n      <th>Cu</th>\n      <th>Mn</th>\n      <th>Fe</th>\n      <th>VEGETATION</th>\n      <th>MAJOR_CROP</th>\n      <th>slope</th>\n      <th>avg_depth</th>\n      <th>avg_soil_ph</th>\n    </tr>\n  </thead>\n  <tbody>\n    <tr>\n      <th>0</th>\n      <td>1</td>\n      <td>Adamawa</td>\n      <td>683.6</td>\n      <td>27.48</td>\n      <td>35.973</td>\n      <td>11.306</td>\n      <td>Nm</td>\n      <td>6.37594</td>\n      <td>0.044609</td>\n      <td>0.609208</td>\n      <td>...</td>\n      <td>14.96620</td>\n      <td>1.28535</td>\n      <td>0.860957</td>\n      <td>89.2675</td>\n      <td>102.2200</td>\n      <td>Grass</td>\n      <td>Cassava</td>\n      <td>2.0</td>\n      <td>30.0</td>\n      <td>5.5</td>\n    </tr>\n    <tr>\n      <th>1</th>\n      <td>2</td>\n      <td>Adamawa</td>\n      <td>683.6</td>\n      <td>27.48</td>\n      <td>35.973</td>\n      <td>11.306</td>\n      <td>Nm</td>\n      <td>6.37594</td>\n      <td>0.044609</td>\n      <td>0.609208</td>\n      <td>...</td>\n      <td>14.96620</td>\n      <td>1.28535</td>\n      <td>0.860957</td>\n      <td>89.2675</td>\n      <td>102.2200</td>\n      <td>Grass</td>\n      <td>Yam</td>\n      <td>2.0</td>\n      <td>30.0</td>\n      <td>5.5</td>\n    </tr>\n    <tr>\n      <th>2</th>\n      <td>3</td>\n      <td>Adamawa</td>\n      <td>683.6</td>\n      <td>27.48</td>\n      <td>35.973</td>\n      <td>11.306</td>\n      <td>Nm</td>\n      <td>6.37594</td>\n      <td>0.044609</td>\n      <td>0.609208</td>\n      <td>...</td>\n      <td>14.96620</td>\n      <td>1.28535</td>\n      <td>0.860957</td>\n      <td>89.2675</td>\n      <td>102.2200</td>\n      <td>Grass</td>\n      <td>Irish Potatoes</td>\n      <td>2.0</td>\n      <td>30.0</td>\n      <td>5.5</td>\n    </tr>\n    <tr>\n      <th>3</th>\n      <td>4</td>\n      <td>Adamawa</td>\n      <td>683.6</td>\n      <td>27.48</td>\n      <td>35.973</td>\n      <td>11.306</td>\n      <td>Nm</td>\n      <td>6.37594</td>\n      <td>0.044609</td>\n      <td>0.609208</td>\n      <td>...</td>\n      <td>14.96620</td>\n      <td>1.28535</td>\n      <td>0.860957</td>\n      <td>89.2675</td>\n      <td>102.2200</td>\n      <td>Grass</td>\n      <td>Cocoa</td>\n      <td>2.0</td>\n      <td>30.0</td>\n      <td>5.5</td>\n    </tr>\n    <tr>\n      <th>4</th>\n      <td>6</td>\n      <td>Adamawa</td>\n      <td>683.6</td>\n      <td>27.48</td>\n      <td>35.973</td>\n      <td>11.306</td>\n      <td>Nm</td>\n      <td>6.37594</td>\n      <td>0.044609</td>\n      <td>0.609208</td>\n      <td>...</td>\n      <td>14.96620</td>\n      <td>1.28535</td>\n      <td>0.860957</td>\n      <td>89.2675</td>\n      <td>102.2200</td>\n      <td>Grass</td>\n      <td>Groundnut</td>\n      <td>2.0</td>\n      <td>30.0</td>\n      <td>5.5</td>\n    </tr>\n    <tr>\n      <th>...</th>\n      <td>...</td>\n      <td>...</td>\n      <td>...</td>\n      <td>...</td>\n      <td>...</td>\n      <td>...</td>\n      <td>...</td>\n      <td>...</td>\n      <td>...</td>\n      <td>...</td>\n      <td>...</td>\n      <td>...</td>\n      <td>...</td>\n      <td>...</td>\n      <td>...</td>\n      <td>...</td>\n      <td>...</td>\n      <td>...</td>\n      <td>...</td>\n      <td>...</td>\n      <td>...</td>\n    </tr>\n    <tr>\n      <th>22003</th>\n      <td>24805</td>\n      <td>Taraba</td>\n      <td>2018.6</td>\n      <td>23.94</td>\n      <td>52.289</td>\n      <td>13.312</td>\n      <td>Nm</td>\n      <td>6.11449</td>\n      <td>0.029150</td>\n      <td>0.508449</td>\n      <td>...</td>\n      <td>9.27022</td>\n      <td>0.82956</td>\n      <td>0.072998</td>\n      <td>35.7464</td>\n      <td>50.4691</td>\n      <td>Sorghum and Groundnut</td>\n      <td>Irish Potatoes</td>\n      <td>2.0</td>\n      <td>10.0</td>\n      <td>5.5</td>\n    </tr>\n    <tr>\n      <th>22004</th>\n      <td>24806</td>\n      <td>Taraba</td>\n      <td>2018.6</td>\n      <td>23.94</td>\n      <td>52.289</td>\n      <td>13.312</td>\n      <td>Nm</td>\n      <td>6.11449</td>\n      <td>0.029150</td>\n      <td>0.508449</td>\n      <td>...</td>\n      <td>9.27022</td>\n      <td>0.82956</td>\n      <td>0.072998</td>\n      <td>35.7464</td>\n      <td>50.4691</td>\n      <td>Sorghum and Groundnut</td>\n      <td>Cocoa</td>\n      <td>2.0</td>\n      <td>10.0</td>\n      <td>5.5</td>\n    </tr>\n    <tr>\n      <th>22005</th>\n      <td>24808</td>\n      <td>Taraba</td>\n      <td>2018.6</td>\n      <td>23.94</td>\n      <td>52.289</td>\n      <td>13.312</td>\n      <td>Nm</td>\n      <td>6.11449</td>\n      <td>0.029150</td>\n      <td>0.508449</td>\n      <td>...</td>\n      <td>9.27022</td>\n      <td>0.82956</td>\n      <td>0.072998</td>\n      <td>35.7464</td>\n      <td>50.4691</td>\n      <td>Sorghum and Groundnut</td>\n      <td>Groundnut</td>\n      <td>2.0</td>\n      <td>10.0</td>\n      <td>5.5</td>\n    </tr>\n    <tr>\n      <th>22006</th>\n      <td>24810</td>\n      <td>Taraba</td>\n      <td>2018.6</td>\n      <td>23.94</td>\n      <td>52.289</td>\n      <td>13.312</td>\n      <td>Nm</td>\n      <td>6.11449</td>\n      <td>0.029150</td>\n      <td>0.508449</td>\n      <td>...</td>\n      <td>9.27022</td>\n      <td>0.82956</td>\n      <td>0.072998</td>\n      <td>35.7464</td>\n      <td>50.4691</td>\n      <td>Sorghum and Groundnut</td>\n      <td>Cowpea</td>\n      <td>2.0</td>\n      <td>10.0</td>\n      <td>5.5</td>\n    </tr>\n    <tr>\n      <th>22007</th>\n      <td>24811</td>\n      <td>Taraba</td>\n      <td>2018.6</td>\n      <td>23.94</td>\n      <td>52.289</td>\n      <td>13.312</td>\n      <td>Nm</td>\n      <td>6.11449</td>\n      <td>0.029150</td>\n      <td>0.508449</td>\n      <td>...</td>\n      <td>9.27022</td>\n      <td>0.82956</td>\n      <td>0.072998</td>\n      <td>35.7464</td>\n      <td>50.4691</td>\n      <td>Sorghum and Groundnut</td>\n      <td>Rice</td>\n      <td>2.0</td>\n      <td>10.0</td>\n      <td>5.5</td>\n    </tr>\n  </tbody>\n</table>\n<p>22008 rows × 24 columns</p>\n</div>"
     },
     "execution_count": 33,
     "metadata": {},
     "output_type": "execute_result"
    }
   ],
   "source": [
    "final_crop = crop_df.drop(columns=['county', 'SOIL_CLASS', 'SOIL_CLA_1', 'Depth_2'])\n",
    "final_crop = final_crop.reset_index()\n",
    "final_crop"
   ]
  },
  {
   "cell_type": "code",
   "execution_count": 34,
   "metadata": {
    "ExecuteTime": {
     "end_time": "2023-05-23T13:06:41.110451656Z",
     "start_time": "2023-05-23T13:06:39.891529605Z"
    }
   },
   "outputs": [
    {
     "name": "stdout",
     "output_type": "stream",
     "text": [
      "Count Matrix: [[0 0 0 0 0 0 1 0 0 0 0 0 0 0 0 0 0 0 0 0 0]\n",
      " [0 0 0 0 0 0 0 0 0 0 0 0 0 0 0 0 0 1 0 0 0]\n",
      " [0 0 0 0 0 0 0 0 0 0 0 0 0 0 0 1 0 0 0 0 0]\n",
      " [0 0 0 0 0 0 0 0 0 0 0 0 0 0 0 0 0 0 1 0 0]\n",
      " [0 0 0 0 0 0 0 0 1 0 0 0 0 0 0 0 0 0 0 0 0]\n",
      " [0 0 0 0 0 0 0 0 0 1 0 0 0 0 0 0 0 0 0 0 0]\n",
      " [0 0 0 0 1 0 0 0 0 0 0 0 0 0 0 0 0 0 0 0 0]\n",
      " [0 0 0 0 0 0 0 0 0 0 0 0 0 0 1 0 0 0 0 0 0]\n",
      " [0 0 0 0 0 0 0 0 0 0 0 0 0 0 0 0 0 0 0 0 0]\n",
      " [0 0 0 0 0 0 0 0 0 0 0 0 0 1 0 0 0 0 0 0 0]\n",
      " [0 0 0 0 0 0 0 0 0 0 0 0 0 0 0 0 0 0 0 0 0]\n",
      " [0 0 1 0 0 0 0 0 0 0 0 0 0 0 0 0 0 0 0 0 0]\n",
      " [0 0 0 0 0 0 0 0 0 0 1 0 0 0 0 0 0 0 0 0 0]\n",
      " [0 0 0 0 0 0 0 0 0 0 0 0 0 0 0 0 0 0 0 0 0]\n",
      " [0 0 0 0 0 0 0 0 0 0 0 0 1 0 0 0 0 0 0 0 0]\n",
      " [0 0 0 0 0 0 0 0 0 0 0 0 0 0 0 0 0 0 0 0 1]\n",
      " [0 0 0 1 0 0 0 0 0 0 0 0 0 0 0 0 0 0 0 0 0]\n",
      " [0 0 0 0 0 0 0 0 0 0 0 1 0 0 0 0 0 0 0 0 0]\n",
      " [0 0 0 0 0 1 0 0 0 0 0 0 0 0 0 0 0 0 0 0 0]\n",
      " [0 0 0 0 0 0 0 0 0 0 0 0 0 0 0 0 0 0 0 1 0]\n",
      " [0 0 0 0 0 0 0 1 0 0 0 0 0 0 0 0 0 0 0 0 0]\n",
      " [0 0 0 0 0 0 0 0 0 0 0 0 0 0 0 0 1 0 0 0 0]\n",
      " [1 0 0 0 0 0 0 0 0 0 0 0 0 0 0 0 0 0 0 0 0]\n",
      " [0 1 0 0 0 0 0 0 0 0 0 0 0 0 0 0 0 0 0 0 0]]\n"
     ]
    }
   ],
   "source": [
    "vect = CountVectorizer()\n",
    "\n",
    "vect_crop = vect.fit_transform(final_crop)\n",
    "print(\"Count Matrix:\", vect_crop.toarray())"
   ]
  },
  {
   "cell_type": "code",
   "execution_count": 35,
   "metadata": {
    "ExecuteTime": {
     "end_time": "2023-05-23T13:06:41.111093025Z",
     "start_time": "2023-05-23T13:06:39.891934604Z"
    }
   },
   "outputs": [],
   "source": [
    "cosine_sim = cosine_similarity(vect_crop)"
   ]
  },
  {
   "cell_type": "code",
   "execution_count": 36,
   "metadata": {
    "ExecuteTime": {
     "end_time": "2023-05-23T13:06:41.111621322Z",
     "start_time": "2023-05-23T13:06:39.892932830Z"
    }
   },
   "outputs": [],
   "source": [
    "crops_to_plant = \"Rice\"\n",
    "\n",
    "def get_index_from_title(crop):\n",
    "    return final_crop[final_crop.MAJOR_CROP == crop][\"index\"].values[0]\n",
    "\n",
    "movie_index = get_index_from_title(crops_to_plant)"
   ]
  },
  {
   "cell_type": "code",
   "execution_count": 37,
   "metadata": {
    "scrolled": true,
    "ExecuteTime": {
     "end_time": "2023-05-23T13:06:41.111976361Z",
     "start_time": "2023-05-23T13:06:39.904648499Z"
    }
   },
   "outputs": [],
   "source": [
    "similar_crops = list(enumerate(cosine_sim[movie_index]))"
   ]
  },
  {
   "cell_type": "code",
   "execution_count": 38,
   "metadata": {
    "ExecuteTime": {
     "end_time": "2023-05-23T13:06:41.164262399Z",
     "start_time": "2023-05-23T13:06:39.916777652Z"
    }
   },
   "outputs": [],
   "source": [
    "sorted_similar_crop = sorted(similar_crops, key=lambda x:x[1], reverse=True)"
   ]
  },
  {
   "cell_type": "code",
   "execution_count": 39,
   "metadata": {
    "ExecuteTime": {
     "end_time": "2023-05-23T13:06:41.226307977Z",
     "start_time": "2023-05-23T13:06:39.964666674Z"
    }
   },
   "outputs": [
    {
     "name": "stdout",
     "output_type": "stream",
     "text": [
      "Irish Potatoes\n",
      "Cassava\n",
      "Yam\n",
      "Irish Potatoes\n",
      "Cocoa\n",
      "Groundnut\n"
     ]
    }
   ],
   "source": [
    "def get_title_from_index(index):\n",
    "    return final_crop[final_crop.index == index][\"MAJOR_CROP\"].values[0]\n",
    "i=0\n",
    "for crop in sorted_similar_crop:\n",
    "    print(get_title_from_index(crop[0]))\n",
    "    i=i+1\n",
    "    if i>5:\n",
    "        break"
   ]
  },
  {
   "cell_type": "code",
   "execution_count": 40,
   "metadata": {
    "ExecuteTime": {
     "end_time": "2023-05-23T13:06:42.157637017Z",
     "start_time": "2023-05-23T13:06:39.964973842Z"
    }
   },
   "outputs": [
    {
     "ename": "NameError",
     "evalue": "name 'X' is not defined",
     "output_type": "error",
     "traceback": [
      "\u001B[0;31m---------------------------------------------------------------------------\u001B[0m",
      "\u001B[0;31mNameError\u001B[0m                                 Traceback (most recent call last)",
      "Cell \u001B[0;32mIn[40], line 1\u001B[0m\n\u001B[0;32m----> 1\u001B[0m X_train, X_test, y_train, y_test \u001B[38;5;241m=\u001B[39m train_test_split(\u001B[43mX\u001B[49m, y, test_size \u001B[38;5;241m=\u001B[39m \u001B[38;5;241m0.2\u001B[39m,stratify\u001B[38;5;241m=\u001B[39my, random_state \u001B[38;5;241m=\u001B[39m \u001B[38;5;241m42\u001B[39m)\n",
      "\u001B[0;31mNameError\u001B[0m: name 'X' is not defined"
     ]
    }
   ],
   "source": [
    "X_train, X_test, y_train, y_test = train_test_split(X, y, test_size = 0.2,stratify=y, random_state = 42)"
   ]
  },
  {
   "cell_type": "code",
   "execution_count": null,
   "metadata": {
    "ExecuteTime": {
     "start_time": "2023-05-23T13:06:40.508681681Z"
    }
   },
   "outputs": [],
   "source": [
    "X_train.shape"
   ]
  },
  {
   "cell_type": "code",
   "execution_count": null,
   "metadata": {
    "ExecuteTime": {
     "start_time": "2023-05-23T13:06:40.509345916Z"
    }
   },
   "outputs": [],
   "source": [
    "y_train.shape"
   ]
  },
  {
   "cell_type": "markdown",
   "metadata": {},
   "source": [
    "## Converting categorical variables to categorical types"
   ]
  },
  {
   "cell_type": "code",
   "execution_count": null,
   "metadata": {
    "ExecuteTime": {
     "start_time": "2023-05-23T13:06:40.509622377Z"
    }
   },
   "outputs": [],
   "source": [
    "X_train['state'] = X_train['state'].astype('category')\n",
    "X_train['VEGETATION'] = X_train['VEGETATION'].astype('category')\n",
    "X_train['Farm'] = X_train['Farm'].astype('category')"
   ]
  },
  {
   "cell_type": "code",
   "execution_count": null,
   "metadata": {
    "ExecuteTime": {
     "start_time": "2023-05-23T13:06:40.551350111Z"
    }
   },
   "outputs": [],
   "source": [
    "y_train.value_counts()"
   ]
  },
  {
   "cell_type": "markdown",
   "metadata": {},
   "source": [
    "## class balancing using SMOTENC model"
   ]
  },
  {
   "cell_type": "code",
   "execution_count": null,
   "metadata": {
    "ExecuteTime": {
     "start_time": "2023-05-23T13:06:40.551694219Z"
    }
   },
   "outputs": [],
   "source": [
    "smotenc = SMOTENC(categorical_features=[0, 5, 18],random_state = 101, sampling_strategy='minority', k_neighbors=1)\n",
    "X_oversample, y_oversample = smotenc.fit_resample(X_train, y_train)"
   ]
  },
  {
   "cell_type": "code",
   "execution_count": null,
   "metadata": {
    "ExecuteTime": {
     "start_time": "2023-05-23T13:06:40.551939850Z"
    }
   },
   "outputs": [],
   "source": [
    "y_oversample.value_counts()"
   ]
  },
  {
   "cell_type": "code",
   "execution_count": null,
   "metadata": {
    "ExecuteTime": {
     "start_time": "2023-05-23T13:06:40.552092715Z"
    }
   },
   "outputs": [],
   "source": []
  },
  {
   "cell_type": "code",
   "execution_count": null,
   "metadata": {
    "ExecuteTime": {
     "start_time": "2023-05-23T13:06:40.552242222Z"
    }
   },
   "outputs": [],
   "source": [
    "X_oversample_ = X_oversample.drop(columns=['state', 'Farm', 'VEGETATION'])"
   ]
  },
  {
   "cell_type": "markdown",
   "metadata": {},
   "source": [
    "## Feature Selection"
   ]
  },
  {
   "cell_type": "code",
   "execution_count": null,
   "metadata": {
    "ExecuteTime": {
     "start_time": "2023-05-23T13:06:40.552391958Z"
    }
   },
   "outputs": [],
   "source": [
    "sel_df = SelectKBest(chi2, k=19,)\n",
    "\n",
    "x_train = sel_df.fit_transform(X_oversample_, y_oversample)\n",
    "df = pd.DataFrame(x_train)\n",
    "df.head()"
   ]
  },
  {
   "cell_type": "code",
   "execution_count": null,
   "metadata": {
    "ExecuteTime": {
     "start_time": "2023-05-23T13:06:40.552542919Z"
    }
   },
   "outputs": [],
   "source": []
  }
 ],
 "metadata": {
  "kernelspec": {
   "display_name": "Python 3 (ipykernel)",
   "language": "python",
   "name": "python3"
  },
  "language_info": {
   "codemirror_mode": {
    "name": "ipython",
    "version": 3
   },
   "file_extension": ".py",
   "mimetype": "text/x-python",
   "name": "python",
   "nbconvert_exporter": "python",
   "pygments_lexer": "ipython3",
   "version": "3.10.4"
  }
 },
 "nbformat": 4,
 "nbformat_minor": 1
}